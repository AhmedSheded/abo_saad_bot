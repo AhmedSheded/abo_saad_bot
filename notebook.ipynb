{
 "cells": [
  {
   "cell_type": "code",
   "id": "initial_id",
   "metadata": {
    "collapsed": true,
    "ExecuteTime": {
     "end_time": "2024-06-15T10:10:06.117662Z",
     "start_time": "2024-06-15T10:10:06.081886Z"
    }
   },
   "source": [
    "import os.path\n",
    "\n",
    "from PIL import Image, ImageDraw, ImageFont\n",
    "\n",
    "# Load the uploaded image\n",
    "input_image_path = 'data/144ce23f-5f7e-4628-b171-ff138940eb86.jpeg'\n",
    "image = Image.open(input_image_path)\n",
    "\n",
    "# Original and translated text\n",
    "original_text = \"\"\"2002 لكزس 430 وارد اليابان\n",
    "8 سلندر\n",
    "الممشى: 318,000 ميل\n",
    "السعر: للبيع او البدل\n",
    "مكان السيارة: ابوظبي\n",
    "رقم التواصل: 0508484477\n",
    "2002 محول خارج 2004\n",
    "تواصل واتساب\"\"\"\n",
    "\n",
    "translated_text = \"\"\"Lexus 430 2002\n",
    "Imported from Japan\n",
    "8 cylinder\n",
    "318,000 miles\n",
    "Price: for sale or exchange\n",
    "Car location Abu Dhabi\n",
    "Contact: 0508484477\n",
    "2002 converted out 2004\n",
    "Contact WhatsApp\"\"\"\n",
    "\n",
    "# Combined text (Arabic and English)\n",
    "combined_text = f\"{original_text}\\n\\n{translated_text}\"\n",
    "\n",
    "# Create a blank image for text\n",
    "text_image = Image.new('RGB', (image.width, image.height), color=(255, 255, 255))\n",
    "\n",
    "# Initialize ImageDraw\n",
    "draw = ImageDraw.Draw(text_image)\n",
    "\n",
    "# Define the font\n",
    "font_path = \"data/dejavu-sans-bold.ttf\"  # Path to a font file\n",
    "font = ImageFont.truetype(font_path, 20)\n",
    "\n",
    "# Calculate text position and add text to the image\n",
    "margin = 10\n",
    "x, y = margin, margin\n",
    "for line in combined_text.split('\\n'):\n",
    "    draw.text((x, y), line, font=font, fill=(0, 0, 0))\n",
    "    y += font.getsize(line)[1] + margin\n",
    "\n",
    "# Combine the original image and the text image\n",
    "combined_image = Image.new('RGB', (image.width + text_image.width, max(image.height, text_image.height)))\n",
    "combined_image.paste(image, (0, 0))\n",
    "combined_image.paste(text_image, (image.width, 0))\n",
    "\n",
    "# Save the combined image\n",
    "combined_image_output_path = 'data/combined_image_with_translation.png'\n",
    "combined_image.save(combined_image_output_path)\n",
    "\n",
    "combined_image.show()\n"
   ],
   "outputs": [
    {
     "ename": "AttributeError",
     "evalue": "'FreeTypeFont' object has no attribute 'getsize'",
     "output_type": "error",
     "traceback": [
      "\u001B[0;31m---------------------------------------------------------------------------\u001B[0m",
      "\u001B[0;31mAttributeError\u001B[0m                            Traceback (most recent call last)",
      "Cell \u001B[0;32mIn[3], line 45\u001B[0m\n\u001B[1;32m     43\u001B[0m \u001B[38;5;28;01mfor\u001B[39;00m line \u001B[38;5;129;01min\u001B[39;00m combined_text\u001B[38;5;241m.\u001B[39msplit(\u001B[38;5;124m'\u001B[39m\u001B[38;5;130;01m\\n\u001B[39;00m\u001B[38;5;124m'\u001B[39m):\n\u001B[1;32m     44\u001B[0m     draw\u001B[38;5;241m.\u001B[39mtext((x, y), line, font\u001B[38;5;241m=\u001B[39mfont, fill\u001B[38;5;241m=\u001B[39m(\u001B[38;5;241m0\u001B[39m, \u001B[38;5;241m0\u001B[39m, \u001B[38;5;241m0\u001B[39m))\n\u001B[0;32m---> 45\u001B[0m     y \u001B[38;5;241m+\u001B[39m\u001B[38;5;241m=\u001B[39m \u001B[43mfont\u001B[49m\u001B[38;5;241;43m.\u001B[39;49m\u001B[43mgetsize\u001B[49m(line)[\u001B[38;5;241m1\u001B[39m] \u001B[38;5;241m+\u001B[39m margin\n\u001B[1;32m     47\u001B[0m \u001B[38;5;66;03m# Combine the original image and the text image\u001B[39;00m\n\u001B[1;32m     48\u001B[0m combined_image \u001B[38;5;241m=\u001B[39m Image\u001B[38;5;241m.\u001B[39mnew(\u001B[38;5;124m'\u001B[39m\u001B[38;5;124mRGB\u001B[39m\u001B[38;5;124m'\u001B[39m, (image\u001B[38;5;241m.\u001B[39mwidth \u001B[38;5;241m+\u001B[39m text_image\u001B[38;5;241m.\u001B[39mwidth, \u001B[38;5;28mmax\u001B[39m(image\u001B[38;5;241m.\u001B[39mheight, text_image\u001B[38;5;241m.\u001B[39mheight)))\n",
      "\u001B[0;31mAttributeError\u001B[0m: 'FreeTypeFont' object has no attribute 'getsize'"
     ]
    }
   ],
   "execution_count": 3
  },
  {
   "metadata": {
    "ExecuteTime": {
     "end_time": "2024-06-15T10:11:32.687234Z",
     "start_time": "2024-06-15T10:11:32.654165Z"
    }
   },
   "cell_type": "code",
   "source": [
    "from PIL import Image, ImageDraw\n",
    "\n",
    "# Load the uploaded image\n",
    "input_image_path = 'data/591bfb41-ed42-416d-b938-ca443ea9f396.jpeg'\n",
    "image = Image.open(input_image_path)\n",
    "\n",
    "# Original and translated text\n",
    "original_text = \"\"\"2002 لكزس 430 وارد اليابان\n",
    "8 سلندر\n",
    "الممشى: 318,000 ميل\n",
    "السعر: للبيع او البدل\n",
    "مكان السيارة: ابوظبي\n",
    "رقم التواصل: 0508484477\n",
    "2002 محول خارج 2004\n",
    "تواصل واتساب\"\"\"\n",
    "\n",
    "translated_text = \"\"\"Lexus 430 2002\n",
    "Imported from Japan\n",
    "8 cylinder\n",
    "318,000 miles\n",
    "Price: for sale or exchange\n",
    "Car location Abu Dhabi\n",
    "Contact: 0508484477\n",
    "2002 converted out 2004\n",
    "Contact WhatsApp\"\"\"\n",
    "\n",
    "# Combined text (Arabic and English)\n",
    "combined_text = f\"{original_text}\\n\\n{translated_text}\"\n",
    "\n",
    "# Create a blank image for text\n",
    "text_image = Image.new('RGB', (image.width, image.height), color=(255, 255, 255))\n",
    "\n",
    "# Initialize ImageDraw\n",
    "draw = ImageDraw.Draw(text_image)\n",
    "\n",
    "# Define text position and add text to the image\n",
    "margin = 10\n",
    "x, y = margin, margin\n",
    "for line in combined_text.split('\\n'):\n",
    "    draw.text((x, y), line, fill=(0, 0, 0))\n",
    "    y += draw.textsize(line)[1] + margin\n",
    "\n",
    "# Combine the original image and the text image\n",
    "combined_image = Image.new('RGB', (image.width + text_image.width, max(image.height, text_image.height)))\n",
    "combined_image.paste(image, (0, 0))\n",
    "combined_image.paste(text_image, (image.width, 0))\n",
    "\n",
    "# Save the combined image\n",
    "combined_image_output_path = 'data/combined_image_with_translation.png'\n",
    "combined_image.save(combined_image_output_path)\n",
    "\n",
    "combined_image.show()\n"
   ],
   "id": "2232cfe63e4ff313",
   "outputs": [
    {
     "ename": "AttributeError",
     "evalue": "'ImageDraw' object has no attribute 'textsize'",
     "output_type": "error",
     "traceback": [
      "\u001B[0;31m---------------------------------------------------------------------------\u001B[0m",
      "\u001B[0;31mAttributeError\u001B[0m                            Traceback (most recent call last)",
      "Cell \u001B[0;32mIn[4], line 41\u001B[0m\n\u001B[1;32m     39\u001B[0m \u001B[38;5;28;01mfor\u001B[39;00m line \u001B[38;5;129;01min\u001B[39;00m combined_text\u001B[38;5;241m.\u001B[39msplit(\u001B[38;5;124m'\u001B[39m\u001B[38;5;130;01m\\n\u001B[39;00m\u001B[38;5;124m'\u001B[39m):\n\u001B[1;32m     40\u001B[0m     draw\u001B[38;5;241m.\u001B[39mtext((x, y), line, fill\u001B[38;5;241m=\u001B[39m(\u001B[38;5;241m0\u001B[39m, \u001B[38;5;241m0\u001B[39m, \u001B[38;5;241m0\u001B[39m))\n\u001B[0;32m---> 41\u001B[0m     y \u001B[38;5;241m+\u001B[39m\u001B[38;5;241m=\u001B[39m \u001B[43mdraw\u001B[49m\u001B[38;5;241;43m.\u001B[39;49m\u001B[43mtextsize\u001B[49m(line)[\u001B[38;5;241m1\u001B[39m] \u001B[38;5;241m+\u001B[39m margin\n\u001B[1;32m     43\u001B[0m \u001B[38;5;66;03m# Combine the original image and the text image\u001B[39;00m\n\u001B[1;32m     44\u001B[0m combined_image \u001B[38;5;241m=\u001B[39m Image\u001B[38;5;241m.\u001B[39mnew(\u001B[38;5;124m'\u001B[39m\u001B[38;5;124mRGB\u001B[39m\u001B[38;5;124m'\u001B[39m, (image\u001B[38;5;241m.\u001B[39mwidth \u001B[38;5;241m+\u001B[39m text_image\u001B[38;5;241m.\u001B[39mwidth, \u001B[38;5;28mmax\u001B[39m(image\u001B[38;5;241m.\u001B[39mheight, text_image\u001B[38;5;241m.\u001B[39mheight)))\n",
      "\u001B[0;31mAttributeError\u001B[0m: 'ImageDraw' object has no attribute 'textsize'"
     ]
    }
   ],
   "execution_count": 4
  },
  {
   "metadata": {
    "ExecuteTime": {
     "end_time": "2024-06-15T10:12:33.835868Z",
     "start_time": "2024-06-15T10:12:33.566567Z"
    }
   },
   "cell_type": "code",
   "source": [
    "from PIL import Image, ImageDraw\n",
    "\n",
    "# Load the uploaded image\n",
    "\n",
    "input_image_path = 'data/591bfb41-ed42-416d-b938-ca443ea9f396.jpeg'\n",
    "image = Image.open(input_image_path)\n",
    "\n",
    "# Original and translated text\n",
    "original_text = \"\"\"2002 لكزس 430 وارد اليابان\n",
    "8 سلندر\n",
    "الممشى: 318,000 ميل\n",
    "السعر: للبيع او البدل\n",
    "مكان السيارة: ابوظبي\n",
    "رقم التواصل: 0508484477\n",
    "2002 محول خارج 2004\n",
    "تواصل واتساب\"\"\"\n",
    "\n",
    "translated_text = \"\"\"Lexus 430 2002\n",
    "Imported from Japan\n",
    "8 cylinder\n",
    "318,000 miles\n",
    "Price: for sale or exchange\n",
    "Car location Abu Dhabi\n",
    "Contact: 0508484477\n",
    "2002 converted out 2004\n",
    "Contact WhatsApp\"\"\"\n",
    "\n",
    "# Combined text (Arabic and English)\n",
    "combined_text = f\"{original_text}\\n\\n{translated_text}\"\n",
    "\n",
    "# Create a blank image for text\n",
    "text_image = Image.new('RGB', (image.width, image.height), color=(255, 255, 255))\n",
    "\n",
    "# Initialize ImageDraw\n",
    "draw = ImageDraw.Draw(text_image)\n",
    "\n",
    "# Define text position and add text to the image\n",
    "margin = 10\n",
    "x, y = margin, margin\n",
    "for line in combined_text.split('\\n'):\n",
    "    draw.text((x, y), line, fill=(0, 0, 0))\n",
    "    y += draw.textbbox((x, y), line)[3] - draw.textbbox((x, y), line)[1] + margin\n",
    "\n",
    "# Combine the original image and the text image\n",
    "combined_image = Image.new('RGB', (image.width + text_image.width, max(image.height, text_image.height)))\n",
    "combined_image.paste(image, (0, 0))\n",
    "combined_image.paste(text_image, (image.width, 0))\n",
    "\n",
    "# Save the combined image\n",
    "combined_image_output_path = 'data/combined_image_with_translation.png'\n",
    "combined_image.save(combined_image_output_path)\n",
    "\n",
    "combined_image.show()\n"
   ],
   "id": "b63330e5ece73bb6",
   "outputs": [],
   "execution_count": 5
  },
  {
   "metadata": {
    "ExecuteTime": {
     "end_time": "2024-06-15T10:15:58.249160Z",
     "start_time": "2024-06-15T10:15:57.755787Z"
    }
   },
   "cell_type": "code",
   "source": [
    "from PIL import Image, ImageDraw\n",
    "\n",
    "# Paths to the images\n",
    "template_path = 'data/591bfb41-ed42-416d-b938-ca443ea9f396.jpeg'\n",
    "first_image_path = 'data/921fe506-0da9-4a4c-9440-74024ba2f177.jpeg'\n",
    "second_image_path = 'data/9030d38d-ab71-4651-86c4-50c5f7217231.jpeg'\n",
    "\n",
    "# Load the template and the images\n",
    "template = Image.open(template_path)\n",
    "first_image = Image.open(first_image_path)\n",
    "second_image = Image.open(second_image_path)\n",
    "\n",
    "# Resize the images to fit within the designated areas of the template\n",
    "first_image = first_image.resize((template.width // 2, template.height // 2))\n",
    "second_image = second_image.resize((template.width // 2, template.height // 2))\n",
    "\n",
    "# Paste the images onto the template\n",
    "template.paste(first_image, (template.width // 2, 0))\n",
    "template.paste(second_image, (template.width // 2, template.height // 2))\n",
    "\n",
    "# Original and translated text\n",
    "original_text = \"\"\"2002 لكزس 430 وارد اليابان\n",
    "8 سلندر\n",
    "الممشى: 318,000 ميل\n",
    "السعر: للبيع او البدل\n",
    "مكان السيارة: ابوظبي\n",
    "رقم التواصل: 0508484477\n",
    "2002 محول خارج 2004\n",
    "تواصل واتساب\"\"\"\n",
    "\n",
    "translated_text = \"\"\"Lexus 430 2002\n",
    "Imported from Japan\n",
    "8 cylinder\n",
    "318,000 miles\n",
    "Price: for sale or exchange\n",
    "Car location Abu Dhabi\n",
    "Contact: 0508484477\n",
    "2002 converted out 2004\n",
    "Contact WhatsApp\"\"\"\n",
    "\n",
    "# Combined text (Arabic and English)\n",
    "combined_text = f\"{original_text}\\n\\n{translated_text}\"\n",
    "\n",
    "# Initialize ImageDraw\n",
    "draw = ImageDraw.Draw(template)\n",
    "\n",
    "# Define text position and add text to the image\n",
    "margin = 10\n",
    "x, y = margin, margin\n",
    "for line in combined_text.split('\\n'):\n",
    "    draw.text((x, y), line, fill=(0, 0, 0))\n",
    "    y += draw.textbbox((x, y), line)[3] - draw.textbbox((x, y), line)[1] + margin\n",
    "\n",
    "# Save the combined image\n",
    "combined_image_output_path = 'data/final_combined_image.png'\n",
    "template.save(combined_image_output_path)\n",
    "\n",
    "template.show()\n"
   ],
   "id": "f7c795234d5280e4",
   "outputs": [],
   "execution_count": 7
  },
  {
   "metadata": {
    "ExecuteTime": {
     "end_time": "2024-06-15T10:18:29.277130Z",
     "start_time": "2024-06-15T10:18:28.719738Z"
    }
   },
   "cell_type": "code",
   "source": [
    "from PIL import Image, ImageDraw\n",
    "\n",
    "# Paths to the images\n",
    "template_path = 'data/591bfb41-ed42-416d-b938-ca443ea9f396.jpeg'\n",
    "first_image_path = 'data/144ce23f-5f7e-4628-b171-ff138940eb86.jpeg'\n",
    "second_image_path = 'data/9030d38d-ab71-4651-86c4-50c5f7217231.jpeg'\n",
    "\n",
    "# Load the template and the images\n",
    "template = Image.open(template_path)\n",
    "first_image = Image.open(first_image_path)\n",
    "second_image = Image.open(second_image_path)\n",
    "\n",
    "# Resize the images to fit within the designated areas of the template\n",
    "first_image = first_image.resize((template.width // 2, template.height // 2))\n",
    "second_image = second_image.resize((template.width // 2, template.height // 2))\n",
    "\n",
    "# Paste the images onto the template (on the left side)\n",
    "template.paste(first_image, (0, 0))\n",
    "template.paste(second_image, (0, template.height // 2))\n",
    "\n",
    "# Original and translated text\n",
    "original_text = \"\"\"2002 لكزس 430 وارد اليابان\n",
    "8 سلندر\n",
    "الممشى: 318,000 ميل\n",
    "السعر: للبيع او البدل\n",
    "مكان السيارة: ابوظبي\n",
    "رقم التواصل: 0508484477\n",
    "2002 محول خارج 2004\n",
    "تواصل واتساب\"\"\"\n",
    "\n",
    "translated_text = \"\"\"Lexus 430 2002\n",
    "Imported from Japan\n",
    "8 cylinder\n",
    "318,000 miles\n",
    "Price: for sale or exchange\n",
    "Car location Abu Dhabi\n",
    "Contact: 0508484477\n",
    "2002 converted out 2004\n",
    "Contact WhatsApp\"\"\"\n",
    "\n",
    "# Combined text (Arabic and English)\n",
    "combined_text = f\"{original_text}\\n\\n{translated_text}\"\n",
    "\n",
    "# Initialize ImageDraw\n",
    "draw = ImageDraw.Draw(template)\n",
    "\n",
    "# Define text position and add text to the image\n",
    "margin = 10\n",
    "x, y = template.width // 2 + margin, margin\n",
    "for line in combined_text.split('\\n'):\n",
    "    draw.text((x, y), line, fill=(0, 0, 0))\n",
    "    y += draw.textbbox((x, y), line)[3] - draw.textbbox((x, y), line)[1] + margin\n",
    "\n",
    "# Save the combined image\n",
    "combined_image_output_path = 'data/final_combined_image_flipped.png'\n",
    "template.save(combined_image_output_path)\n",
    "\n",
    "template.show()\n"
   ],
   "id": "a04486c22442cf63",
   "outputs": [],
   "execution_count": 10
  },
  {
   "metadata": {
    "ExecuteTime": {
     "end_time": "2024-06-15T10:24:35.137974Z",
     "start_time": "2024-06-15T10:24:34.656827Z"
    }
   },
   "cell_type": "code",
   "source": [
    "from PIL import Image, ImageDraw\n",
    "\n",
    "# Paths to the images\n",
    "template_path = 'data/591bfb41-ed42-416d-b938-ca443ea9f396.jpeg'\n",
    "first_image_path = 'data/144ce23f-5f7e-4628-b171-ff138940eb86.jpeg'\n",
    "second_image_path = 'data/9030d38d-ab71-4651-86c4-50c5f7217231.jpeg'\n",
    "combined_image_output_path = 'data/final_combined_image_flipped.png'\n",
    "\n",
    "# Load the template and the images\n",
    "template = Image.open(template_path)\n",
    "first_image = Image.open(first_image_path)\n",
    "second_image = Image.open(second_image_path)\n",
    "\n",
    "# Resize the images to fit within the designated areas of the template with padding\n",
    "padding = 10\n",
    "new_width = (template.width // 2) - (2 * padding)+20\n",
    "new_height = (template.height // 2) - (2 * padding)\n",
    "\n",
    "first_image = first_image.resize((new_width, new_height))\n",
    "second_image = second_image.resize((new_width, new_height))\n",
    "\n",
    "# Create a new image to combine the template and images with padding\n",
    "combined_image = Image.new('RGB', (template.width, template.height), (255, 255, 255))\n",
    "combined_image.paste(template, (0, 0))\n",
    "\n",
    "# Paste the images onto the combined image (on the left side) with padding\n",
    "combined_image.paste(first_image, (padding, padding))\n",
    "combined_image.paste(second_image, (padding, template.height // 2 + padding))\n",
    "\n",
    "# Original and translated text\n",
    "original_text = \"\"\"2002 لكزس 430 وارد اليابان\n",
    "8 سلندر\n",
    "الممشى: 318,000 ميل\n",
    "السعر: للبيع او البدل\n",
    "مكان السيارة: ابوظبي\n",
    "رقم التواصل: 0508484477\n",
    "2002 محول خارج 2004\n",
    "تواصل واتساب\"\"\"\n",
    "\n",
    "translated_text = \"\"\"Lexus 430 2002\n",
    "Imported from Japan\n",
    "8 cylinder\n",
    "318,000 miles\n",
    "Price: for sale or exchange\n",
    "Car location Abu Dhabi\n",
    "Contact: 0508484477\n",
    "2002 converted out 2004\n",
    "Contact WhatsApp\"\"\"\n",
    "\n",
    "# Combined text (Arabic and English)\n",
    "combined_text = f\"{original_text}\\n\\n{translated_text}\"\n",
    "\n",
    "# Initialize ImageDraw\n",
    "draw = ImageDraw.Draw(combined_image)\n",
    "\n",
    "# Define text position and add text to the image\n",
    "margin = 10\n",
    "x, y = template.width // 2 + margin, margin\n",
    "for line in combined_text.split('\\n'):\n",
    "    draw.text((x, y), line, fill=(0, 0, 0))\n",
    "    y += draw.textbbox((x, y), line)[3] - draw.textbbox((x, y), line)[1] + margin\n",
    "\n",
    "# Save the combined image\n",
    "combined_image.save(combined_image_output_path)\n",
    "\n",
    "combined_image.show()"
   ],
   "id": "d14f28ab65c1556e",
   "outputs": [],
   "execution_count": 17
  },
  {
   "metadata": {
    "ExecuteTime": {
     "end_time": "2024-06-15T18:21:45.944703Z",
     "start_time": "2024-06-15T18:21:45.767463Z"
    }
   },
   "cell_type": "code",
   "source": [
    "from PIL import Image, ImageDraw, ImageFont\n",
    "import textwrap\n",
    "\n",
    "def create_image(photo_paths, arabic_text, english_text, output_path):\n",
    "    # Load the base image (photo 2)\n",
    "    base_image = Image.open('data/591bfb41-ed42-416d-b938-ca443ea9f396.jpeg')\n",
    "    \n",
    "    # Define the size of the canvas for placing photos and texts\n",
    "    width, height = base_image.size\n",
    "    \n",
    "    # Create a new image with a white background\n",
    "    new_image = Image.new('RGB', (width, height), 'white')\n",
    "    \n",
    "    # Draw the base image onto the new image\n",
    "    new_image.paste(base_image, (0, 0))\n",
    "    \n",
    "    # Load and place the photos on the left side\n",
    "    y_offset = 0\n",
    "    for photo_path in photo_paths:\n",
    "        photo = Image.open(photo_path)\n",
    "        photo = photo.resize((int(width * 0.4), int(height * 0.5)), Image.LANCZOS)\n",
    "        new_image.paste(photo, (0, y_offset))\n",
    "        y_offset += photo.height\n",
    "    \n",
    "    # Add the Arabic text\n",
    "    draw = ImageDraw.Draw(new_image)\n",
    "    font = ImageFont.truetype(\"arial.ttf\", 24)  # Use a font file available in your environment\n",
    "    arabic_text_wrapped = textwrap.fill(arabic_text, width=40)\n",
    "    draw.text((width * 0.5, height * 0.1), arabic_text_wrapped, font=font, fill=\"black\", align=\"right\")\n",
    "    \n",
    "    # Add the English text\n",
    "    english_text_wrapped = textwrap.fill(english_text, width=40)\n",
    "    draw.text((width * 0.5, height * 0.6), english_text_wrapped, font=font, fill=\"black\", align=\"left\")\n",
    "    \n",
    "    # Save the output image\n",
    "    new_image.save(output_path)\n",
    "\n",
    "# Example usage\n",
    "photo_paths = ['data/144ce23f-5f7e-4628-b171-ff138940eb86.jpeg', 'data/9030d38d-ab71-4651-86c4-50c5f7217231.jpeg']  # List of photo file paths\n",
    "arabic_text = \"لكزس 430 2002 وارد اليابان 8 سلندر الممشى: 318,000 ميل السعر: للبيع او البدل مكان السيارة: ابوظبي رقم التواصل: 0508484477 2002 محول خارج 2004 تواصل واتساب\"\n",
    "english_text = \"Lexus 430 2002 Imported from Japan 8 cylinder 318,000 miles Price: for sale or exchange Car location Abu Dhabi Contact : 0508484477 2002 converted out 2004 Contact WhatsApp\"\n",
    "output_path = '/mnt/data/output_image.png'\n",
    "\n",
    "create_image(photo_paths, arabic_text, english_text, output_path)\n"
   ],
   "id": "69ce06b163c92f2c",
   "outputs": [
    {
     "ename": "OSError",
     "evalue": "cannot open resource",
     "output_type": "error",
     "traceback": [
      "\u001B[0;31m---------------------------------------------------------------------------\u001B[0m",
      "\u001B[0;31mOSError\u001B[0m                                   Traceback (most recent call last)",
      "Cell \u001B[0;32mIn[3], line 44\u001B[0m\n\u001B[1;32m     41\u001B[0m english_text \u001B[38;5;241m=\u001B[39m \u001B[38;5;124m\"\u001B[39m\u001B[38;5;124mLexus 430 2002 Imported from Japan 8 cylinder 318,000 miles Price: for sale or exchange Car location Abu Dhabi Contact : 0508484477 2002 converted out 2004 Contact WhatsApp\u001B[39m\u001B[38;5;124m\"\u001B[39m\n\u001B[1;32m     42\u001B[0m output_path \u001B[38;5;241m=\u001B[39m \u001B[38;5;124m'\u001B[39m\u001B[38;5;124m/mnt/data/output_image.png\u001B[39m\u001B[38;5;124m'\u001B[39m\n\u001B[0;32m---> 44\u001B[0m \u001B[43mcreate_image\u001B[49m\u001B[43m(\u001B[49m\u001B[43mphoto_paths\u001B[49m\u001B[43m,\u001B[49m\u001B[43m \u001B[49m\u001B[43marabic_text\u001B[49m\u001B[43m,\u001B[49m\u001B[43m \u001B[49m\u001B[43menglish_text\u001B[49m\u001B[43m,\u001B[49m\u001B[43m \u001B[49m\u001B[43moutput_path\u001B[49m\u001B[43m)\u001B[49m\n",
      "Cell \u001B[0;32mIn[3], line 27\u001B[0m, in \u001B[0;36mcreate_image\u001B[0;34m(photo_paths, arabic_text, english_text, output_path)\u001B[0m\n\u001B[1;32m     25\u001B[0m \u001B[38;5;66;03m# Add the Arabic text\u001B[39;00m\n\u001B[1;32m     26\u001B[0m draw \u001B[38;5;241m=\u001B[39m ImageDraw\u001B[38;5;241m.\u001B[39mDraw(new_image)\n\u001B[0;32m---> 27\u001B[0m font \u001B[38;5;241m=\u001B[39m \u001B[43mImageFont\u001B[49m\u001B[38;5;241;43m.\u001B[39;49m\u001B[43mtruetype\u001B[49m\u001B[43m(\u001B[49m\u001B[38;5;124;43m\"\u001B[39;49m\u001B[38;5;124;43marial.ttf\u001B[39;49m\u001B[38;5;124;43m\"\u001B[39;49m\u001B[43m,\u001B[49m\u001B[43m \u001B[49m\u001B[38;5;241;43m24\u001B[39;49m\u001B[43m)\u001B[49m  \u001B[38;5;66;03m# Use a font file available in your environment\u001B[39;00m\n\u001B[1;32m     28\u001B[0m arabic_text_wrapped \u001B[38;5;241m=\u001B[39m textwrap\u001B[38;5;241m.\u001B[39mfill(arabic_text, width\u001B[38;5;241m=\u001B[39m\u001B[38;5;241m40\u001B[39m)\n\u001B[1;32m     29\u001B[0m draw\u001B[38;5;241m.\u001B[39mtext((width \u001B[38;5;241m*\u001B[39m \u001B[38;5;241m0.5\u001B[39m, height \u001B[38;5;241m*\u001B[39m \u001B[38;5;241m0.1\u001B[39m), arabic_text_wrapped, font\u001B[38;5;241m=\u001B[39mfont, fill\u001B[38;5;241m=\u001B[39m\u001B[38;5;124m\"\u001B[39m\u001B[38;5;124mblack\u001B[39m\u001B[38;5;124m\"\u001B[39m, align\u001B[38;5;241m=\u001B[39m\u001B[38;5;124m\"\u001B[39m\u001B[38;5;124mright\u001B[39m\u001B[38;5;124m\"\u001B[39m)\n",
      "File \u001B[0;32m~/projects/abo saad/venv/lib/python3.8/site-packages/PIL/ImageFont.py:807\u001B[0m, in \u001B[0;36mtruetype\u001B[0;34m(font, size, index, encoding, layout_engine)\u001B[0m\n\u001B[1;32m    804\u001B[0m     \u001B[38;5;28;01mreturn\u001B[39;00m FreeTypeFont(font, size, index, encoding, layout_engine)\n\u001B[1;32m    806\u001B[0m \u001B[38;5;28;01mtry\u001B[39;00m:\n\u001B[0;32m--> 807\u001B[0m     \u001B[38;5;28;01mreturn\u001B[39;00m \u001B[43mfreetype\u001B[49m\u001B[43m(\u001B[49m\u001B[43mfont\u001B[49m\u001B[43m)\u001B[49m\n\u001B[1;32m    808\u001B[0m \u001B[38;5;28;01mexcept\u001B[39;00m \u001B[38;5;167;01mOSError\u001B[39;00m:\n\u001B[1;32m    809\u001B[0m     \u001B[38;5;28;01mif\u001B[39;00m \u001B[38;5;129;01mnot\u001B[39;00m is_path(font):\n",
      "File \u001B[0;32m~/projects/abo saad/venv/lib/python3.8/site-packages/PIL/ImageFont.py:804\u001B[0m, in \u001B[0;36mtruetype.<locals>.freetype\u001B[0;34m(font)\u001B[0m\n\u001B[1;32m    803\u001B[0m \u001B[38;5;28;01mdef\u001B[39;00m \u001B[38;5;21mfreetype\u001B[39m(font):\n\u001B[0;32m--> 804\u001B[0m     \u001B[38;5;28;01mreturn\u001B[39;00m \u001B[43mFreeTypeFont\u001B[49m\u001B[43m(\u001B[49m\u001B[43mfont\u001B[49m\u001B[43m,\u001B[49m\u001B[43m \u001B[49m\u001B[43msize\u001B[49m\u001B[43m,\u001B[49m\u001B[43m \u001B[49m\u001B[43mindex\u001B[49m\u001B[43m,\u001B[49m\u001B[43m \u001B[49m\u001B[43mencoding\u001B[49m\u001B[43m,\u001B[49m\u001B[43m \u001B[49m\u001B[43mlayout_engine\u001B[49m\u001B[43m)\u001B[49m\n",
      "File \u001B[0;32m~/projects/abo saad/venv/lib/python3.8/site-packages/PIL/ImageFont.py:244\u001B[0m, in \u001B[0;36mFreeTypeFont.__init__\u001B[0;34m(self, font, size, index, encoding, layout_engine)\u001B[0m\n\u001B[1;32m    242\u001B[0m                 load_from_bytes(f)\n\u001B[1;32m    243\u001B[0m             \u001B[38;5;28;01mreturn\u001B[39;00m\n\u001B[0;32m--> 244\u001B[0m     \u001B[38;5;28mself\u001B[39m\u001B[38;5;241m.\u001B[39mfont \u001B[38;5;241m=\u001B[39m \u001B[43mcore\u001B[49m\u001B[38;5;241;43m.\u001B[39;49m\u001B[43mgetfont\u001B[49m\u001B[43m(\u001B[49m\n\u001B[1;32m    245\u001B[0m \u001B[43m        \u001B[49m\u001B[43mfont\u001B[49m\u001B[43m,\u001B[49m\u001B[43m \u001B[49m\u001B[43msize\u001B[49m\u001B[43m,\u001B[49m\u001B[43m \u001B[49m\u001B[43mindex\u001B[49m\u001B[43m,\u001B[49m\u001B[43m \u001B[49m\u001B[43mencoding\u001B[49m\u001B[43m,\u001B[49m\u001B[43m \u001B[49m\u001B[43mlayout_engine\u001B[49m\u001B[38;5;241;43m=\u001B[39;49m\u001B[43mlayout_engine\u001B[49m\n\u001B[1;32m    246\u001B[0m \u001B[43m    \u001B[49m\u001B[43m)\u001B[49m\n\u001B[1;32m    247\u001B[0m \u001B[38;5;28;01melse\u001B[39;00m:\n\u001B[1;32m    248\u001B[0m     load_from_bytes(font)\n",
      "\u001B[0;31mOSError\u001B[0m: cannot open resource"
     ]
    }
   ],
   "execution_count": 3
  },
  {
   "metadata": {
    "ExecuteTime": {
     "end_time": "2024-06-15T18:27:29.294722Z",
     "start_time": "2024-06-15T18:27:28.957623Z"
    }
   },
   "cell_type": "code",
   "source": [
    "from PIL import Image, ImageDraw, ImageFont\n",
    "import textwrap\n",
    "\n",
    "def create_image(photo1_path, photo2_path, arabic_text, english_text, base_image_path, output_path):\n",
    "    # Load the base image (photo 2)\n",
    "    base_image = Image.open(base_image_path)\n",
    "    \n",
    "    # Define the size of the canvas for placing photos and texts\n",
    "    width, height = base_image.size\n",
    "    \n",
    "    # Create a new image with a white background\n",
    "    new_image = Image.new('RGB', (width, height), 'white')\n",
    "    \n",
    "    # Draw the base image onto the new image\n",
    "    new_image.paste(base_image, (0, 0))\n",
    "    \n",
    "    # Load and place the photos on the left side\n",
    "    y_offset = 0\n",
    "    for photo_path in [photo1_path, photo2_path]:\n",
    "        photo = Image.open(photo_path)\n",
    "        photo = photo.resize((int(width * 0.4), int(height * 0.5)), Image.LANCZOS)\n",
    "        new_image.paste(photo, (0, y_offset))\n",
    "        y_offset += photo.height\n",
    "    \n",
    "    # Add the Arabic text\n",
    "    draw = ImageDraw.Draw(new_image)\n",
    "    try:\n",
    "        font = ImageFont.truetype(\"arial.ttf\", 24)  # Attempt to use a specific font\n",
    "    except IOError:\n",
    "        font = ImageFont.load_default()  # Fallback to default font if specific font is not found\n",
    "    \n",
    "    arabic_text_wrapped = textwrap.fill(arabic_text, width=40)\n",
    "    draw.text((width * 0.5, height * 0.1), arabic_text_wrapped, font=font, fill=\"black\", align=\"right\")\n",
    "    \n",
    "    # Add the English text\n",
    "    english_text_wrapped = textwrap.fill(english_text, width=40)\n",
    "    draw.text((width * 0.5, height * 0.6), english_text_wrapped, font=font, fill=\"black\", align=\"left\")\n",
    "    \n",
    "    # Save the output image\n",
    "    new_image.save(output_path)\n",
    "\n",
    "# Example usage\n",
    "photo1_path = 'data/144ce23f-5f7e-4628-b171-ff138940eb86.jpeg'\n",
    "photo2_path = 'data/144ce23f-5f7e-4628-b171-ff138940eb86.jpeg'\n",
    "arabic_text = \"لكزس 430 2002 وارد اليابان 8 سلندر الممشى: 318,000 ميل السعر: للبيع او البدل مكان السيارة: ابوظبي رقم التواصل: 0508484477 2002 محول خارج 2004 تواصل واتساب\"\n",
    "english_text = \"Lexus 430 2002 Imported from Japan 8 cylinder 318,000 miles Price: for sale or exchange Car location Abu Dhabi Contact : 0508484477 2002 converted out 2004 Contact WhatsApp\"\n",
    "base_image_path = 'data/591bfb41-ed42-416d-b938-ca443ea9f396.jpeg'\n",
    "output_path = 'data/output_image.png'\n",
    "\n",
    "create_image(photo1_path, photo2_path, arabic_text, english_text, base_image_path, output_path)\n"
   ],
   "id": "b494684e3b7e0141",
   "outputs": [],
   "execution_count": 7
  },
  {
   "metadata": {
    "ExecuteTime": {
     "end_time": "2024-06-15T18:47:32.331652Z",
     "start_time": "2024-06-15T18:47:31.974700Z"
    }
   },
   "cell_type": "code",
   "source": [
    "from PIL import Image, ImageDraw, ImageFont\n",
    "\n",
    "def create_image(photo1_path, photo2_path, arabic_text, english_text, base_image_path, output_path):\n",
    "    # Load the base image (photo 2)\n",
    "    base_image = Image.open(base_image_path)\n",
    "    \n",
    "    # Define the size of the canvas for placing photos and texts\n",
    "    width, height = base_image.size\n",
    "    \n",
    "    # Create a new image with a white background\n",
    "    new_image = Image.new('RGB', (width, height), 'white')\n",
    "    \n",
    "    # Draw the base image onto the new image\n",
    "    new_image.paste(base_image, (0, 0))\n",
    "    \n",
    "    # Load and place the photos on the left side\n",
    "    photo_width = int(width * 0.4)\n",
    "    photo_height = int(height * 0.5)\n",
    "    \n",
    "    photo1 = Image.open(photo1_path).resize((photo_width, photo_height), Image.LANCZOS)\n",
    "    photo2 = Image.open(photo2_path).resize((photo_width, photo_height), Image.LANCZOS)\n",
    "    \n",
    "    new_image.paste(photo1, (0, 0))\n",
    "    new_image.paste(photo2, (0, photo_height))\n",
    "    \n",
    "    # Add the text\n",
    "    draw = ImageDraw.Draw(new_image)\n",
    "    try:\n",
    "        font = ImageFont.truetype(\"arial/ARIAL.TTF\", 24)  # Use a specific font if available\n",
    "    except IOError:\n",
    "        font = ImageFont.load_default()  # Fallback to default font if specific font is not found\n",
    "    \n",
    "    # Add Arabic text\n",
    "    arabic_text_position = (int(width * 0.5), int(height * 0.1))\n",
    "    draw.text(arabic_text_position, arabic_text, font=font, fill=\"black\", align=\"right\")\n",
    "    \n",
    "    # Add English text\n",
    "    english_text_position = (int(width * 0.5), int(height * 0.6))\n",
    "    draw.text(english_text_position, english_text, font=font, fill=\"black\", align=\"left\")\n",
    "    \n",
    "    # Save the output image\n",
    "    new_image.save(output_path)\n",
    "\n",
    "# Example usage\n",
    "photo1_path = 'data/144ce23f-5f7e-4628-b171-ff138940eb86.jpeg'\n",
    "photo2_path = 'data/144ce23f-5f7e-4628-b171-ff138940eb86.jpeg'\n",
    "arabic_text = (\"لكزس 430 2002 وارد اليابان 8 سلندر الممشى: 318,000 ميل السعر:\"\n",
    "               \" للبيع او البدل مكان السيارة: ابوظبي رقم التواصل:\"\n",
    "               \" 0508484477 2002 محول خارج 2004 تواصل واتساب\")\n",
    "english_text = (\"Lexus 430 2002 Imported from\"\n",
    "                \" Japan 8 cylinder 318,000 miles Price: \"\n",
    "                \"for sale or exchange Car location Abu Dhabi Contact : \"\n",
    "                \"0508484477 2002 converted out 2004 Contact WhatsApp\")\n",
    "base_image_path = 'data/591bfb41-ed42-416d-b938-ca443ea9f396.jpeg'\n",
    "output_path = 'data/output_image.png'\n",
    "\n",
    "\n",
    "\n",
    "create_image(photo1_path, photo2_path, arabic_text, english_text, base_image_path, output_path)\n"
   ],
   "id": "2b75566dd8385864",
   "outputs": [],
   "execution_count": 15
  },
  {
   "metadata": {
    "ExecuteTime": {
     "end_time": "2024-06-15T18:48:08.232215Z",
     "start_time": "2024-06-15T18:48:07.893489Z"
    }
   },
   "cell_type": "code",
   "source": [
    "from PIL import Image, ImageDraw, ImageFont\n",
    "\n",
    "def draw_multiline_text(draw, position, text, font, fill, line_height=30, max_width=None, align=\"left\"):\n",
    "    lines = text.split('\\n')\n",
    "    x, y = position\n",
    "    for line in lines:\n",
    "        if align == \"center\" and max_width:\n",
    "            line_width, _ = draw.textsize(line, font=font)\n",
    "            x = position[0] + (max_width - line_width) / 2\n",
    "        draw.text((x, y), line, font=font, fill=fill)\n",
    "        y += line_height\n",
    "\n",
    "def create_image(photo1_path, photo2_path, arabic_text, english_text, base_image_path, output_path):\n",
    "    # Load the base image (photo 2)\n",
    "    base_image = Image.open(base_image_path)\n",
    "    \n",
    "    # Define the size of the canvas for placing photos and texts\n",
    "    width, height = base_image.size\n",
    "    \n",
    "    # Create a new image with a white background\n",
    "    new_image = Image.new('RGB', (width, height), 'white')\n",
    "    \n",
    "    # Draw the base image onto the new image\n",
    "    new_image.paste(base_image, (0, 0))\n",
    "    \n",
    "    # Load and place the photos on the left side\n",
    "    photo_width = int(width * 0.4)\n",
    "    photo_height = int(height * 0.5)\n",
    "    \n",
    "    photo1 = Image.open(photo1_path).resize((photo_width, photo_height), Image.LANCZOS)\n",
    "    photo2 = Image.open(photo2_path).resize((photo_width, photo_height), Image.LANCZOS)\n",
    "    \n",
    "    new_image.paste(photo1, (0, 0))\n",
    "    new_image.paste(photo2, (0, photo_height))\n",
    "    \n",
    "    # Add the text\n",
    "    draw = ImageDraw.Draw(new_image)\n",
    "    try:\n",
    "        font = ImageFont.truetype(\"arial/ARIAL.TTF\", 24)  # Use a specific font if available\n",
    "    except IOError:\n",
    "        font = ImageFont.load_default()  # Fallback to default font if specific font is not found\n",
    "    \n",
    "    # Calculate text positions\n",
    "    arabic_text_position = (int(width * 0.45), int(height * 0.1))\n",
    "    english_text_position = (int(width * 0.45), int(height * 0.6))\n",
    "    max_width = width * 0.45\n",
    "    \n",
    "    # Add Arabic text\n",
    "    draw_multiline_text(draw, arabic_text_position, arabic_text, font, fill=\"black\", line_height=35, max_width=max_width, align=\"center\")\n",
    "    \n",
    "    # Add English text\n",
    "    draw_multiline_text(draw, english_text_position, english_text, font, fill=\"black\", line_height=35, max_width=max_width, align=\"center\")\n",
    "    \n",
    "    # Save the output image\n",
    "    new_image.save(output_path)\n",
    "\n",
    "# Example usage\n",
    "\n",
    "arabic_text = \"لكزس 430 2002\\nوارد اليابان\\n8 سلندر\\nالممشى: 318,000 ميل\\nالسعر: للبيع او البدل\\nمكان السيارة: ابوظبي\\nرقم التواصل: 0508484477\\n2002 محول خارج 2004\\nتواصل واتساب\"\n",
    "english_text = \"Lexus 430 2002\\nImported from Japan\\n8 cylinder\\n318,000 miles\\nPrice: for sale or exchange\\nCar location Abu Dhabi\\nContact : 0508484477\\n2002 converted out 2004\\nContact WhatsApp\"\n",
    "\n",
    "photo1_path = 'data/144ce23f-5f7e-4628-b171-ff138940eb86.jpeg'\n",
    "photo2_path = 'data/144ce23f-5f7e-4628-b171-ff138940eb86.jpeg'\n",
    "\n",
    "base_image_path = 'data/591bfb41-ed42-416d-b938-ca443ea9f396.jpeg'\n",
    "output_path = 'data/output_image.png'\n",
    "\n",
    "create_image(photo1_path, photo2_path, arabic_text, english_text, base_image_path, output_path)\n"
   ],
   "id": "750613a6f1363116",
   "outputs": [
    {
     "ename": "AttributeError",
     "evalue": "'ImageDraw' object has no attribute 'textsize'",
     "output_type": "error",
     "traceback": [
      "\u001B[0;31m---------------------------------------------------------------------------\u001B[0m",
      "\u001B[0;31mAttributeError\u001B[0m                            Traceback (most recent call last)",
      "Cell \u001B[0;32mIn[16], line 68\u001B[0m\n\u001B[1;32m     65\u001B[0m base_image_path \u001B[38;5;241m=\u001B[39m \u001B[38;5;124m'\u001B[39m\u001B[38;5;124mdata/591bfb41-ed42-416d-b938-ca443ea9f396.jpeg\u001B[39m\u001B[38;5;124m'\u001B[39m\n\u001B[1;32m     66\u001B[0m output_path \u001B[38;5;241m=\u001B[39m \u001B[38;5;124m'\u001B[39m\u001B[38;5;124mdata/output_image.png\u001B[39m\u001B[38;5;124m'\u001B[39m\n\u001B[0;32m---> 68\u001B[0m \u001B[43mcreate_image\u001B[49m\u001B[43m(\u001B[49m\u001B[43mphoto1_path\u001B[49m\u001B[43m,\u001B[49m\u001B[43m \u001B[49m\u001B[43mphoto2_path\u001B[49m\u001B[43m,\u001B[49m\u001B[43m \u001B[49m\u001B[43marabic_text\u001B[49m\u001B[43m,\u001B[49m\u001B[43m \u001B[49m\u001B[43menglish_text\u001B[49m\u001B[43m,\u001B[49m\u001B[43m \u001B[49m\u001B[43mbase_image_path\u001B[49m\u001B[43m,\u001B[49m\u001B[43m \u001B[49m\u001B[43moutput_path\u001B[49m\u001B[43m)\u001B[49m\n",
      "Cell \u001B[0;32mIn[16], line 49\u001B[0m, in \u001B[0;36mcreate_image\u001B[0;34m(photo1_path, photo2_path, arabic_text, english_text, base_image_path, output_path)\u001B[0m\n\u001B[1;32m     46\u001B[0m max_width \u001B[38;5;241m=\u001B[39m width \u001B[38;5;241m*\u001B[39m \u001B[38;5;241m0.45\u001B[39m\n\u001B[1;32m     48\u001B[0m \u001B[38;5;66;03m# Add Arabic text\u001B[39;00m\n\u001B[0;32m---> 49\u001B[0m \u001B[43mdraw_multiline_text\u001B[49m\u001B[43m(\u001B[49m\u001B[43mdraw\u001B[49m\u001B[43m,\u001B[49m\u001B[43m \u001B[49m\u001B[43marabic_text_position\u001B[49m\u001B[43m,\u001B[49m\u001B[43m \u001B[49m\u001B[43marabic_text\u001B[49m\u001B[43m,\u001B[49m\u001B[43m \u001B[49m\u001B[43mfont\u001B[49m\u001B[43m,\u001B[49m\u001B[43m \u001B[49m\u001B[43mfill\u001B[49m\u001B[38;5;241;43m=\u001B[39;49m\u001B[38;5;124;43m\"\u001B[39;49m\u001B[38;5;124;43mblack\u001B[39;49m\u001B[38;5;124;43m\"\u001B[39;49m\u001B[43m,\u001B[49m\u001B[43m \u001B[49m\u001B[43mline_height\u001B[49m\u001B[38;5;241;43m=\u001B[39;49m\u001B[38;5;241;43m35\u001B[39;49m\u001B[43m,\u001B[49m\u001B[43m \u001B[49m\u001B[43mmax_width\u001B[49m\u001B[38;5;241;43m=\u001B[39;49m\u001B[43mmax_width\u001B[49m\u001B[43m,\u001B[49m\u001B[43m \u001B[49m\u001B[43malign\u001B[49m\u001B[38;5;241;43m=\u001B[39;49m\u001B[38;5;124;43m\"\u001B[39;49m\u001B[38;5;124;43mcenter\u001B[39;49m\u001B[38;5;124;43m\"\u001B[39;49m\u001B[43m)\u001B[49m\n\u001B[1;32m     51\u001B[0m \u001B[38;5;66;03m# Add English text\u001B[39;00m\n\u001B[1;32m     52\u001B[0m draw_multiline_text(draw, english_text_position, english_text, font, fill\u001B[38;5;241m=\u001B[39m\u001B[38;5;124m\"\u001B[39m\u001B[38;5;124mblack\u001B[39m\u001B[38;5;124m\"\u001B[39m, line_height\u001B[38;5;241m=\u001B[39m\u001B[38;5;241m35\u001B[39m, max_width\u001B[38;5;241m=\u001B[39mmax_width, align\u001B[38;5;241m=\u001B[39m\u001B[38;5;124m\"\u001B[39m\u001B[38;5;124mcenter\u001B[39m\u001B[38;5;124m\"\u001B[39m)\n",
      "Cell \u001B[0;32mIn[16], line 8\u001B[0m, in \u001B[0;36mdraw_multiline_text\u001B[0;34m(draw, position, text, font, fill, line_height, max_width, align)\u001B[0m\n\u001B[1;32m      6\u001B[0m \u001B[38;5;28;01mfor\u001B[39;00m line \u001B[38;5;129;01min\u001B[39;00m lines:\n\u001B[1;32m      7\u001B[0m     \u001B[38;5;28;01mif\u001B[39;00m align \u001B[38;5;241m==\u001B[39m \u001B[38;5;124m\"\u001B[39m\u001B[38;5;124mcenter\u001B[39m\u001B[38;5;124m\"\u001B[39m \u001B[38;5;129;01mand\u001B[39;00m max_width:\n\u001B[0;32m----> 8\u001B[0m         line_width, _ \u001B[38;5;241m=\u001B[39m \u001B[43mdraw\u001B[49m\u001B[38;5;241;43m.\u001B[39;49m\u001B[43mtextsize\u001B[49m(line, font\u001B[38;5;241m=\u001B[39mfont)\n\u001B[1;32m      9\u001B[0m         x \u001B[38;5;241m=\u001B[39m position[\u001B[38;5;241m0\u001B[39m] \u001B[38;5;241m+\u001B[39m (max_width \u001B[38;5;241m-\u001B[39m line_width) \u001B[38;5;241m/\u001B[39m \u001B[38;5;241m2\u001B[39m\n\u001B[1;32m     10\u001B[0m     draw\u001B[38;5;241m.\u001B[39mtext((x, y), line, font\u001B[38;5;241m=\u001B[39mfont, fill\u001B[38;5;241m=\u001B[39mfill)\n",
      "\u001B[0;31mAttributeError\u001B[0m: 'ImageDraw' object has no attribute 'textsize'"
     ]
    }
   ],
   "execution_count": 16
  },
  {
   "metadata": {
    "ExecuteTime": {
     "end_time": "2024-06-15T18:50:27.229201Z",
     "start_time": "2024-06-15T18:50:26.723486Z"
    }
   },
   "cell_type": "code",
   "source": [
    "from PIL import Image, ImageDraw, ImageFont\n",
    "\n",
    "def draw_multiline_text(draw, position, text, font, fill, line_height=30, max_width=None, align=\"left\"):\n",
    "    lines = text.split('\\n')\n",
    "    x, y = position\n",
    "    for line in lines:\n",
    "        if align == \"center\" and max_width:\n",
    "            line_width = draw.textlength(line, font=font)\n",
    "            x = position[0] + (max_width - line_width) / 2\n",
    "        draw.text((x, y), line, font=font, fill=fill)\n",
    "        y += line_height\n",
    "\n",
    "def create_image(photo1_path, photo2_path, arabic_text, english_text, base_image_path, output_path):\n",
    "    # Load the base image (photo 2)\n",
    "    base_image = Image.open(base_image_path)\n",
    "    \n",
    "    # Define the size of the canvas for placing photos and texts\n",
    "    width, height = base_image.size\n",
    "    \n",
    "    # Create a new image with a white background\n",
    "    new_image = Image.new('RGB', (width, height), 'white')\n",
    "    \n",
    "    # Draw the base image onto the new image\n",
    "    new_image.paste(base_image, (0, 0))\n",
    "    \n",
    "    # Load and place the photos on the left side\n",
    "    photo_width = int(width * 0.4)\n",
    "    photo_height = int(height * 0.5)\n",
    "    \n",
    "    photo1 = Image.open(photo1_path).resize((photo_width, photo_height), Image.LANCZOS)\n",
    "    photo2 = Image.open(photo2_path).resize((photo_width, photo_height), Image.LANCZOS)\n",
    "    \n",
    "    new_image.paste(photo1, (0, 0))\n",
    "    new_image.paste(photo2, (0, photo_height))\n",
    "    \n",
    "    # Add the text\n",
    "    draw = ImageDraw.Draw(new_image)\n",
    "    try:\n",
    "        font = ImageFont.truetype(\"arial/ARIAL.TTF\", 24)  # Use a specific font if available\n",
    "    except IOError:\n",
    "        font = ImageFont.load_default()  # Fallback to default font if specific font is not found\n",
    "    \n",
    "    # Calculate text positions\n",
    "    arabic_text_position = (int(width * 0.45), int(height * 0.1))\n",
    "    english_text_position = (int(width * 0.45), int(height * 0.6))\n",
    "    max_width = width * 0.45\n",
    "    \n",
    "    # Add Arabic text\n",
    "    draw_multiline_text(draw, arabic_text_position, arabic_text, font, fill=\"black\", line_height=35, max_width=max_width, align=\"center\")\n",
    "    \n",
    "    # Add English text\n",
    "    draw_multiline_text(draw, english_text_position, english_text, font, fill=\"black\", line_height=35, max_width=max_width, align=\"center\")\n",
    "    \n",
    "    # Save the output image\n",
    "    new_image.save(output_path)\n",
    "\n",
    "# Example usage\n",
    "\n",
    "arabic_text = \"لكزس 430 2002\\nوارد اليابان\\n8 سلندر\\nالممشى: 318,000 ميل\\nالسعر: للبيع او البدل\\nمكان السيارة: ابوظبي\\nرقم التواصل: 0508484477\\n2002 محول خارج 2004\\nتواصل واتساب\"\n",
    "english_text = \"Lexus 430 2002\\nImported from Japan\\n8 cylinder\\n318,000 miles\\nPrice: for sale or exchange\\nCar location Abu Dhabi\\nContact : 0508484477\\n2002 converted out 2004\\nContact WhatsApp\"\n",
    "photo1_path = 'data/144ce23f-5f7e-4628-b171-ff138940eb86.jpeg'\n",
    "photo2_path = 'data/144ce23f-5f7e-4628-b171-ff138940eb86.jpeg'\n",
    "\n",
    "base_image_path = 'data/591bfb41-ed42-416d-b938-ca443ea9f396.jpeg'\n",
    "output_path = 'data/output_image.png'\n",
    "\n",
    "create_image(photo1_path, photo2_path, arabic_text, english_text, base_image_path, output_path)\n"
   ],
   "id": "b1293ff8f5a1a426",
   "outputs": [],
   "execution_count": 17
  },
  {
   "metadata": {
    "ExecuteTime": {
     "end_time": "2024-06-15T18:57:09.545193Z",
     "start_time": "2024-06-15T18:57:08.869303Z"
    }
   },
   "cell_type": "code",
   "source": [
    "from PIL import Image, ImageDraw, ImageFont\n",
    "\n",
    "def draw_multiline_text(draw, position, text, font, fill, line_height=30, max_width=None, align=\"left\"):\n",
    "    lines = text.split('\\n')\n",
    "    x, y = position\n",
    "    for line in lines:\n",
    "        if align == \"center\" and max_width:\n",
    "            line_width = draw.textlength(line, font=font)\n",
    "            x = position[0] + (max_width - line_width) / 2\n",
    "        draw.text((x, y), line, font=font, fill=fill)\n",
    "        y += line_height\n",
    "\n",
    "def create_image(photo_paths, arabic_text, english_text, base_image_path, output_path):\n",
    "    # Load the base image\n",
    "    base_image = Image.open(base_image_path)\n",
    "\n",
    "    # Define the size of the canvas for placing photos and texts\n",
    "    width, height = base_image.size\n",
    "\n",
    "    # Create a new image with a white background\n",
    "    new_image = Image.new('RGB', (width, height), 'white')\n",
    "\n",
    "    # Draw the base image onto the new image\n",
    "    new_image.paste(base_image, (0, 0))\n",
    "\n",
    "    # Load and place the photos on the left side with padding\n",
    "    num_photos = len(photo_paths)\n",
    "    photo_height = height if num_photos == 1 else height // num_photos  # Adjusted height for photos\n",
    "\n",
    "    for i, photo_path in enumerate(photo_paths):\n",
    "        photo_width = width // 2  # Half of the width for each photo\n",
    "        padding_top = i * photo_height  # Calculate top padding based on the number of photos\n",
    "\n",
    "        photo = Image.open(photo_path).resize((photo_width, photo_height), Image.LANCZOS)\n",
    "        new_image.paste(photo, (0, padding_top))\n",
    "\n",
    "    # Add the text\n",
    "    draw = ImageDraw.Draw(new_image)\n",
    "    try:\n",
    "        font = ImageFont.truetype(\"arial/ARIAL.TTF\", 24)  # Use a specific font if available\n",
    "    except IOError:\n",
    "        font = ImageFont.load_default()  # Fallback to default font if specific font is not found\n",
    "\n",
    "    # Calculate text positions\n",
    "    arabic_text_position = (int(width * 0.55), int(height * 0.1))\n",
    "    english_text_position = (int(width * 0.55), int(height * 0.6))\n",
    "    max_width = width * 0.4  # Adjusted max width for text\n",
    "\n",
    "    # Add Arabic text\n",
    "    draw_multiline_text(draw, arabic_text_position, arabic_text, font, fill=\"black\", line_height=35, max_width=max_width, align=\"center\")\n",
    "\n",
    "    # Add English text\n",
    "    draw_multiline_text(draw, english_text_position, english_text, font, fill=\"black\", line_height=35, max_width=max_width, align=\"center\")\n",
    "\n",
    "    # Save the output image\n",
    "    new_image.save(output_path)\n",
    "\n",
    "# Example usage\n",
    "arabic_text = \"لكزس 430 2002\\nوارد اليابان\\n8 سلندر\\nالممشى: 318,000 ميل\\nالسعر: للبيع او البدل\\nمكان السيارة: ابوظبي\\nرقم التواصل: 0508484477\\n2002 محول خارج 2004\\nتواصل واتساب\"\n",
    "english_text = \"Lexus 430 2002\\nImported from Japan\\n8 cylinder\\n318,000 miles\\nPrice: for sale or exchange\\nCar location Abu Dhabi\\nContact : 0508484477\\n2002 converted out 2004\\nContact WhatsApp\"\n",
    "photo_paths = [\n",
    "    'data/144ce23f-5f7e-4628-b171-ff138940eb86.jpeg',\n",
    "    'data/144ce23f-5f7e-4628-b171-ff138940eb86.jpeg'\n",
    "]\n",
    "\n",
    "base_image_path = 'data/591bfb41-ed42-416d-b938-ca443ea9f396.jpeg'\n",
    "output_path = 'data/output_image.png'\n",
    "\n",
    "create_image(photo_paths, arabic_text, english_text, base_image_path, output_path)\n"
   ],
   "id": "64aab02242c681c2",
   "outputs": [],
   "execution_count": 20
  },
  {
   "metadata": {
    "ExecuteTime": {
     "end_time": "2024-06-15T18:58:09.092653Z",
     "start_time": "2024-06-15T18:58:08.747446Z"
    }
   },
   "cell_type": "code",
   "source": [
    "from PIL import Image, ImageDraw, ImageFont\n",
    "\n",
    "def draw_multiline_text(draw, position, text, font, fill, line_height=30, max_width=None, align=\"left\"):\n",
    "    lines = text.split('\\n')\n",
    "    x, y = position\n",
    "    for line in lines:\n",
    "        if align == \"center\" and max_width:\n",
    "            line_width = draw.textlength(line, font=font)\n",
    "            x = position[0] + (max_width - line_width) / 2\n",
    "        draw.text((x, y), line, font=font, fill=fill)\n",
    "        y += line_height\n",
    "\n",
    "def create_image(photo_paths, arabic_text, english_text, base_image_path, output_path):\n",
    "    # Load the base image\n",
    "    base_image = Image.open(base_image_path)\n",
    "\n",
    "    # Define the size of the canvas for placing photos and texts\n",
    "    width, height = base_image.size\n",
    "\n",
    "    # Create a new image with a white background\n",
    "    new_image = Image.new('RGB', (width, height), 'white')\n",
    "\n",
    "    # Draw the base image onto the new image\n",
    "    new_image.paste(base_image, (0, 0))\n",
    "\n",
    "    # Load and place the photos on the left side with padding\n",
    "    num_photos = len(photo_paths)\n",
    "    photo_height = height if num_photos == 1 else height // num_photos  # Adjusted height for photos\n",
    "\n",
    "    for i, photo_path in enumerate(photo_paths):\n",
    "        photo_width = width // 2  # Half of the width for each photo\n",
    "        padding_top = i * photo_height  # Calculate top padding based on the number of photos\n",
    "\n",
    "        photo = Image.open(photo_path).resize((photo_width, photo_height), Image.LANCZOS)\n",
    "        new_image.paste(photo, (0, padding_top))\n",
    "\n",
    "    # Add the text\n",
    "    draw = ImageDraw.Draw(new_image)\n",
    "    try:\n",
    "        font = ImageFont.truetype(\"arial/ARIALBD.TTF\", 30, bold=True)  # Use a bold font with larger size\n",
    "    except IOError:\n",
    "        font = ImageFont.load_default()  # Fallback to default font if specific font is not found\n",
    "\n",
    "    # Calculate text positions\n",
    "    arabic_text_position = (int(width * 0.55), int(height * 0.1))\n",
    "    english_text_position = (int(width * 0.55), int(height * 0.6))\n",
    "    max_width = width * 0.4  # Adjusted max width for text\n",
    "\n",
    "    # Add Arabic text\n",
    "    draw_multiline_text(draw, arabic_text_position, arabic_text, font, fill=\"black\", line_height=35, max_width=max_width, align=\"center\")\n",
    "\n",
    "    # Add English text\n",
    "    draw_multiline_text(draw, english_text_position, english_text, font, fill=\"black\", line_height=35, max_width=max_width, align=\"center\")\n",
    "\n",
    "    # Save the output image\n",
    "    new_image.save(output_path)\n",
    "\n",
    "# Example usage\n",
    "arabic_text = \"لكزس 430 2002\\nوارد اليابان\\n8 سلندر\\nالممشى: 318,000 ميل\\nالسعر: للبيع او البدل\\nمكان السيارة: ابوظبي\\nرقم التواصل: 0508484477\\n2002 محول خارج 2004\\nتواصل واتساب\"\n",
    "english_text = \"Lexus 430 2002\\nImported from Japan\\n8 cylinder\\n318,000 miles\\nPrice: for sale or exchange\\nCar location Abu Dhabi\\nContact : 0508484477\\n2002 converted out 2004\\nContact WhatsApp\"\n",
    "photo_paths = [\n",
    "    'data/144ce23f-5f7e-4628-b171-ff138940eb86.jpeg',\n",
    "    'data/144ce23f-5f7e-4628-b171-ff138940eb86.jpeg',\n",
    "    'data/144ce23f-5f7e-4628-b171-ff138940eb86.jpeg'\n",
    "]\n",
    "\n",
    "base_image_path = 'data/591bfb41-ed42-416d-b938-ca443ea9f396.jpeg'\n",
    "output_path = 'data/output_image.png'\n",
    "\n",
    "create_image(photo_paths, arabic_text, english_text, base_image_path, output_path)\n"
   ],
   "id": "6d9274f4c157705c",
   "outputs": [
    {
     "ename": "TypeError",
     "evalue": "truetype() got an unexpected keyword argument 'bold'",
     "output_type": "error",
     "traceback": [
      "\u001B[0;31m---------------------------------------------------------------------------\u001B[0m",
      "\u001B[0;31mTypeError\u001B[0m                                 Traceback (most recent call last)",
      "Cell \u001B[0;32mIn[21], line 70\u001B[0m\n\u001B[1;32m     67\u001B[0m base_image_path \u001B[38;5;241m=\u001B[39m \u001B[38;5;124m'\u001B[39m\u001B[38;5;124mdata/591bfb41-ed42-416d-b938-ca443ea9f396.jpeg\u001B[39m\u001B[38;5;124m'\u001B[39m\n\u001B[1;32m     68\u001B[0m output_path \u001B[38;5;241m=\u001B[39m \u001B[38;5;124m'\u001B[39m\u001B[38;5;124mdata/output_image.png\u001B[39m\u001B[38;5;124m'\u001B[39m\n\u001B[0;32m---> 70\u001B[0m \u001B[43mcreate_image\u001B[49m\u001B[43m(\u001B[49m\u001B[43mphoto_paths\u001B[49m\u001B[43m,\u001B[49m\u001B[43m \u001B[49m\u001B[43marabic_text\u001B[49m\u001B[43m,\u001B[49m\u001B[43m \u001B[49m\u001B[43menglish_text\u001B[49m\u001B[43m,\u001B[49m\u001B[43m \u001B[49m\u001B[43mbase_image_path\u001B[49m\u001B[43m,\u001B[49m\u001B[43m \u001B[49m\u001B[43moutput_path\u001B[49m\u001B[43m)\u001B[49m\n",
      "Cell \u001B[0;32mIn[21], line 40\u001B[0m, in \u001B[0;36mcreate_image\u001B[0;34m(photo_paths, arabic_text, english_text, base_image_path, output_path)\u001B[0m\n\u001B[1;32m     38\u001B[0m draw \u001B[38;5;241m=\u001B[39m ImageDraw\u001B[38;5;241m.\u001B[39mDraw(new_image)\n\u001B[1;32m     39\u001B[0m \u001B[38;5;28;01mtry\u001B[39;00m:\n\u001B[0;32m---> 40\u001B[0m     font \u001B[38;5;241m=\u001B[39m \u001B[43mImageFont\u001B[49m\u001B[38;5;241;43m.\u001B[39;49m\u001B[43mtruetype\u001B[49m\u001B[43m(\u001B[49m\u001B[38;5;124;43m\"\u001B[39;49m\u001B[38;5;124;43marial/ARIALBD.TTF\u001B[39;49m\u001B[38;5;124;43m\"\u001B[39;49m\u001B[43m,\u001B[49m\u001B[43m \u001B[49m\u001B[38;5;241;43m30\u001B[39;49m\u001B[43m,\u001B[49m\u001B[43m \u001B[49m\u001B[43mbold\u001B[49m\u001B[38;5;241;43m=\u001B[39;49m\u001B[38;5;28;43;01mTrue\u001B[39;49;00m\u001B[43m)\u001B[49m  \u001B[38;5;66;03m# Use a bold font with larger size\u001B[39;00m\n\u001B[1;32m     41\u001B[0m \u001B[38;5;28;01mexcept\u001B[39;00m \u001B[38;5;167;01mIOError\u001B[39;00m:\n\u001B[1;32m     42\u001B[0m     font \u001B[38;5;241m=\u001B[39m ImageFont\u001B[38;5;241m.\u001B[39mload_default()  \u001B[38;5;66;03m# Fallback to default font if specific font is not found\u001B[39;00m\n",
      "\u001B[0;31mTypeError\u001B[0m: truetype() got an unexpected keyword argument 'bold'"
     ]
    }
   ],
   "execution_count": 21
  },
  {
   "metadata": {
    "ExecuteTime": {
     "end_time": "2024-06-19T10:19:30.095348Z",
     "start_time": "2024-06-19T10:19:29.683198Z"
    }
   },
   "cell_type": "code",
   "source": [
    "from PIL import Image, ImageDraw, ImageFont\n",
    "\n",
    "def draw_multiline_text(draw, position, text, font, fill, line_height=30, max_width=None, align=\"left\"):\n",
    "    lines = text.split('\\n')\n",
    "    x, y = position\n",
    "    for line in lines:\n",
    "        if align == \"center\" and max_width:\n",
    "            line_width = draw.textlength(line, font=font)\n",
    "            x = position[0] + (max_width - line_width) / 2\n",
    "        draw.text((x, y), line, font=font, fill=fill)\n",
    "        y += line_height\n",
    "\n",
    "def create_image(photo_paths, arabic_text, english_text, base_image_path, output_path):\n",
    "    # Load the base image\n",
    "    base_image = Image.open(base_image_path)\n",
    "\n",
    "    # Define the size of the canvas for placing photos and texts\n",
    "    width, height = base_image.size\n",
    "\n",
    "    # Create a new image with a white background\n",
    "    new_image = Image.new('RGB', (width, height), 'white')\n",
    "\n",
    "    # Draw the base image onto the new image\n",
    "    new_image.paste(base_image, (0, 0))\n",
    "\n",
    "    # Load and place the photos on the left side with padding\n",
    "    num_photos = len(photo_paths)\n",
    "    photo_height = height if num_photos == 1 else height // num_photos  # Adjusted height for photos\n",
    "\n",
    "    for i, photo_path in enumerate(photo_paths):\n",
    "        photo_width = width // 2 +30 # Half of the width for each photo\n",
    "        padding_top = i * photo_height  # Calculate top padding based on the number of photos\n",
    "\n",
    "        photo = Image.open(photo_path).resize((photo_width, photo_height), Image.LANCZOS)\n",
    "        new_image.paste(photo, (0, padding_top))\n",
    "\n",
    "    # Add the text\n",
    "    draw = ImageDraw.Draw(new_image)\n",
    "    try:\n",
    "        font = ImageFont.truetype(\"arial/ARIAL.TTF\", 30)  # Use a specific font with larger size\n",
    "        bold_font = ImageFont.truetype(\"arial/ARIALBD.TTF\", 30)\n",
    "        # bold_font = ImageFont.ImageFont(font=bold_font.font, size=30, index=0, encoding='')\n",
    "    except IOError:\n",
    "        font = ImageFont.load_default()  # Fallback to default font if specific font is not found\n",
    "\n",
    "    # Calculate text positions\n",
    "    arabic_text_position = (int(width * 0.55), int(height * 0.1))\n",
    "    english_text_position = (int(width * 0.55), int(height * 0.6))\n",
    "    max_width = width * 0.4  # Adjusted max width for text\n",
    "\n",
    "    # Add Arabic text with bold font\n",
    "    draw_multiline_text(draw, arabic_text_position, arabic_text, bold_font, fill=\"black\", line_height=35, max_width=max_width, align=\"center\")\n",
    "\n",
    "    # Add English text with bold font\n",
    "    draw_multiline_text(draw, english_text_position, english_text, bold_font, fill=\"black\", line_height=35, max_width=max_width, align=\"center\")\n",
    "\n",
    "    # Save the output image\n",
    "    new_image.save(output_path)\n",
    "\n",
    "# Example usage\n",
    "arabic_text = \"لكزس 430 2002\\nوارد اليابان\\n8 سلندر\\nالممشى: 318,000 ميل\\nالسعر: للبيع او البدل\\nمكان السيارة: ابوظبي\\nرقم التواصل: 0508484477\\n2002 محول خارج 2004\\nتواصل واتساب\"\n",
    "english_text = \"Lexus 430 2002\\nImported from Japan\\n8 cylinder\\n318,000 miles\\nPrice: for sale or exchange\\nCar location Abu Dhabi\\nContact : 0508484477\\n2002 converted out 2004\\nContact WhatsApp\"\n",
    "photo_paths = [\n",
    "    'data/144ce23f-5f7e-4628-b171-ff138940eb86.jpeg',\n",
    "    # 'data/144ce23f-5f7e-4628-b171-ff138940eb86.jpeg',\n",
    "    'data/9030d38d-ab71-4651-86c4-50c5f7217231.jpeg'\n",
    "]\n",
    "\n",
    "base_image_path = 'data/591bfb41-ed42-416d-b938-ca443ea9f396.jpeg'\n",
    "output_path = 'data/output_image.png'\n",
    "\n",
    "create_image(photo_paths, arabic_text, english_text, base_image_path, output_path)\n"
   ],
   "id": "157701bbac04433b",
   "outputs": [],
   "execution_count": 1
  },
  {
   "metadata": {
    "ExecuteTime": {
     "end_time": "2024-06-18T15:18:48.492406Z",
     "start_time": "2024-06-18T15:18:47.091466Z"
    }
   },
   "cell_type": "code",
   "source": [
    "import requests\n",
    "\n",
    "url = \"https://deep-translate1.p.rapidapi.com/language/translate/v2\"\n",
    "\n",
    "payload = {\n",
    "\t\"q\": \"Hello World!\",\n",
    "\t\"source\": \"en\",\n",
    "\t\"target\": \"ar\"\n",
    "}\n",
    "headers = {\n",
    "\t\"x-rapidapi-key\": \"8caeb9741amshaccc7f5fd9925d3p1bb4b6jsne76d30e29c62\",\n",
    "\t\"x-rapidapi-host\": \"deep-translate1.p.rapidapi.com\",\n",
    "\t\"Content-Type\": \"application/json\"\n",
    "}\n",
    "\n",
    "response = requests.post(url, json=payload, headers=headers)\n",
    "\n",
    "print(response.json())"
   ],
   "id": "6c2ecf7cfdf0212f",
   "outputs": [
    {
     "name": "stdout",
     "output_type": "stream",
     "text": [
      "{'data': {'translations': {'translatedText': 'مرحبا بالعالم!'}}}\n"
     ]
    }
   ],
   "execution_count": 2
  },
  {
   "metadata": {
    "ExecuteTime": {
     "end_time": "2024-06-18T15:24:17.199237Z",
     "start_time": "2024-06-18T15:24:17.192350Z"
    }
   },
   "cell_type": "code",
   "source": "response.json()['data']['translations']['translatedText'] ",
   "id": "345993304a531090",
   "outputs": [
    {
     "data": {
      "text/plain": [
       "'مرحبا بالعالم!'"
      ]
     },
     "execution_count": 5,
     "metadata": {},
     "output_type": "execute_result"
    }
   ],
   "execution_count": 5
  },
  {
   "metadata": {
    "ExecuteTime": {
     "end_time": "2024-06-18T15:25:18.625045Z",
     "start_time": "2024-06-18T15:25:18.620468Z"
    }
   },
   "cell_type": "code",
   "source": [
    "def translate(language, content):\n",
    "    # source, target = None, None\n",
    "    if language == \"ar\":\n",
    "        source = 'ar'\n",
    "        target = 'en'\n",
    "    elif language == \"en\":\n",
    "        source = 'en'\n",
    "        target = 'ar'\n",
    "    else:\n",
    "        return 'no translation'\n",
    "        \n",
    "    url = \"https://deep-translate1.p.rapidapi.com/language/translate/v2\"\n",
    "    payload = {\n",
    "        \"q\": content,\n",
    "        \"source\": source,\n",
    "        \"target\": target\n",
    "    }\n",
    "    headers = {\n",
    "        \"x-rapidapi-key\": \"8caeb9741amshaccc7f5fd9925d3p1bb4b6jsne76d30e29c62\",\n",
    "        \"x-rapidapi-host\": \"deep-translate1.p.rapidapi.com\",\n",
    "        \"Content-Type\": \"application/json\"\n",
    "    }\n",
    "\n",
    "    response = requests.post(url, json=payload, headers=headers) \n",
    "    return response.json()['data']['translations']['translatedText'] "
   ],
   "id": "7a4d792a6128df81",
   "outputs": [],
   "execution_count": 6
  },
  {
   "metadata": {
    "ExecuteTime": {
     "end_time": "2024-06-18T15:25:29.212627Z",
     "start_time": "2024-06-18T15:25:28.328490Z"
    }
   },
   "cell_type": "code",
   "source": "translate('en', 'Hello World!')",
   "id": "3b5fc5d788d38bb3",
   "outputs": [
    {
     "data": {
      "text/plain": [
       "'مرحبا بالعالم!'"
      ]
     },
     "execution_count": 7,
     "metadata": {},
     "output_type": "execute_result"
    }
   ],
   "execution_count": 7
  },
  {
   "metadata": {
    "ExecuteTime": {
     "end_time": "2024-06-18T15:27:11.383449Z",
     "start_time": "2024-06-18T15:27:11.380548Z"
    }
   },
   "cell_type": "code",
   "source": "text = 'لكزس 430 2002\\nوارد اليابان\\n8 سلندر\\nالممشى: 318,000 ميل\\nالسعر: للبيع او البدل\\nمكان السيارة: ابوظبي\\nرقم التواصل: 0508484477\\n2002 محول خارج 2004\\nتواصل واتساب'",
   "id": "b6bd29a80ea9c82a",
   "outputs": [],
   "execution_count": 8
  },
  {
   "metadata": {
    "ExecuteTime": {
     "end_time": "2024-06-18T15:27:19.970520Z",
     "start_time": "2024-06-18T15:27:19.966677Z"
    }
   },
   "cell_type": "code",
   "source": "text",
   "id": "a004d1924589a098",
   "outputs": [
    {
     "data": {
      "text/plain": [
       "'لكزس 430 2002\\nوارد اليابان\\n8 سلندر\\nالممشى: 318,000 ميل\\nالسعر: للبيع او البدل\\nمكان السيارة: ابوظبي\\nرقم التواصل: 0508484477\\n2002 محول خارج 2004\\nتواصل واتساب'"
      ]
     },
     "execution_count": 9,
     "metadata": {},
     "output_type": "execute_result"
    }
   ],
   "execution_count": 9
  },
  {
   "metadata": {
    "ExecuteTime": {
     "end_time": "2024-06-18T15:30:04.163379Z",
     "start_time": "2024-06-18T15:30:02.675668Z"
    }
   },
   "cell_type": "code",
   "source": "en_text = translate('ar', text)",
   "id": "276d0ca7d2719d7f",
   "outputs": [],
   "execution_count": 11
  },
  {
   "metadata": {
    "ExecuteTime": {
     "end_time": "2024-06-18T15:30:18.401007Z",
     "start_time": "2024-06-18T15:30:16.937036Z"
    }
   },
   "cell_type": "code",
   "source": "translate('en', en_text)",
   "id": "1e0e43008f84d54c",
   "outputs": [
    {
     "data": {
      "text/plain": [
       "'لكزس 430 2002\\nمستورد من اليابان\\n8 سلندر\\nالمسافة المقطوعة: 318.000 ميل\\nالسعر : للبيع أو البدل\\nموقع السيارة: أبوظبي\\nرقم التواصل: 0508484477\\n2002 تم تحويله إلى 2004\\nتواصل واتس اب'"
      ]
     },
     "execution_count": 12,
     "metadata": {},
     "output_type": "execute_result"
    }
   ],
   "execution_count": 12
  },
  {
   "metadata": {
    "ExecuteTime": {
     "end_time": "2024-06-20T14:48:34.070081Z",
     "start_time": "2024-06-20T14:48:34.064430Z"
    }
   },
   "cell_type": "code",
   "source": "text = 'مستوردة من اليابان'",
   "id": "3a9bf6f9315d3894",
   "outputs": [],
   "execution_count": 1
  },
  {
   "metadata": {
    "ExecuteTime": {
     "end_time": "2024-06-20T14:50:04.150053Z",
     "start_time": "2024-06-20T14:50:04.144749Z"
    }
   },
   "cell_type": "code",
   "source": "text.replace('مستوردة من', 'وارد')",
   "id": "b395749826dd1fc7",
   "outputs": [
    {
     "data": {
      "text/plain": [
       "'وارد اليابان'"
      ]
     },
     "execution_count": 2,
     "metadata": {},
     "output_type": "execute_result"
    }
   ],
   "execution_count": 2
  },
  {
   "metadata": {
    "ExecuteTime": {
     "end_time": "2024-06-20T15:06:38.796866Z",
     "start_time": "2024-06-20T15:06:38.777111Z"
    }
   },
   "cell_type": "code",
   "source": [
    "import os\n",
    "\n",
    "os.path.dirname(__file__)"
   ],
   "id": "81b55ae95992460d",
   "outputs": [
    {
     "ename": "NameError",
     "evalue": "name '__file__' is not defined",
     "output_type": "error",
     "traceback": [
      "\u001B[0;31m---------------------------------------------------------------------------\u001B[0m",
      "\u001B[0;31mNameError\u001B[0m                                 Traceback (most recent call last)",
      "Cell \u001B[0;32mIn[4], line 2\u001B[0m\n\u001B[1;32m      1\u001B[0m \u001B[38;5;28;01mimport\u001B[39;00m \u001B[38;5;21;01mos\u001B[39;00m\n\u001B[0;32m----> 2\u001B[0m os\u001B[38;5;241m.\u001B[39mpath\u001B[38;5;241m.\u001B[39mdirname(\u001B[38;5;18;43m__file__\u001B[39;49m)\n",
      "\u001B[0;31mNameError\u001B[0m: name '__file__' is not defined"
     ]
    }
   ],
   "execution_count": 4
  },
  {
   "metadata": {
    "ExecuteTime": {
     "end_time": "2024-06-20T15:09:08.027740Z",
     "start_time": "2024-06-20T15:09:08.013496Z"
    }
   },
   "cell_type": "code",
   "source": [
    "import os\n",
    "os.path.dirname(os.path.abspath(__file__))\n"
   ],
   "id": "26ecf9770be536bf",
   "outputs": [
    {
     "ename": "NameError",
     "evalue": "name '__file__' is not defined",
     "output_type": "error",
     "traceback": [
      "\u001B[0;31m---------------------------------------------------------------------------\u001B[0m",
      "\u001B[0;31mNameError\u001B[0m                                 Traceback (most recent call last)",
      "Cell \u001B[0;32mIn[5], line 2\u001B[0m\n\u001B[1;32m      1\u001B[0m \u001B[38;5;28;01mimport\u001B[39;00m \u001B[38;5;21;01mos\u001B[39;00m\n\u001B[0;32m----> 2\u001B[0m os\u001B[38;5;241m.\u001B[39mpath\u001B[38;5;241m.\u001B[39mdirname(os\u001B[38;5;241m.\u001B[39mpath\u001B[38;5;241m.\u001B[39mabspath(\u001B[38;5;18;43m__file__\u001B[39;49m))\n",
      "\u001B[0;31mNameError\u001B[0m: name '__file__' is not defined"
     ]
    }
   ],
   "execution_count": 5
  },
  {
   "metadata": {
    "ExecuteTime": {
     "end_time": "2024-06-28T18:03:40.816051Z",
     "start_time": "2024-06-28T18:03:40.796766Z"
    }
   },
   "cell_type": "code",
   "source": [
    "import requests\n",
    "from PIL import Image, ImageDraw, ImageFont\n",
    "import uuid\n",
    "import os\n",
    "\n",
    "\n",
    "def translate(language, content):\n",
    "    if language == \"ar\":\n",
    "        source = 'ar'\n",
    "        target = 'en'\n",
    "    elif language == \"en\":\n",
    "        source = 'en'\n",
    "        target = 'ar'\n",
    "    else:\n",
    "        return 'no translation'\n",
    "\n",
    "    url = \"https://deep-translate1.p.rapidapi.com/language/translate/v2\"\n",
    "    payload = {\n",
    "        \"q\": content,\n",
    "        \"source\": source,\n",
    "        \"target\": target\n",
    "    }\n",
    "    headers = {\n",
    "        \"x-rapidapi-key\": \"8caeb9741amshaccc7f5fd9925d3p1bb4b6jsne76d30e29c62\",\n",
    "        \"x-rapidapi-host\": \"deep-translate1.p.rapidapi.com\",\n",
    "        \"Content-Type\": \"application/json\"\n",
    "    }\n",
    "\n",
    "    response = requests.post(url, json=payload, headers=headers)\n",
    "    return response.json()['data']['translations']['translatedText']\n",
    "\n",
    "\n",
    "# def draw_multiline_text(draw, position, text, font, fill, line_height=30, max_width=None, align=\"left\"):\n",
    "#     lines = text.split('\\n')\n",
    "#     x, y = position\n",
    "#     for line in lines:\n",
    "#         if align == \"center\" and max_width:\n",
    "#             line_width = draw.textlength(line, font=font)\n",
    "#             x = position[0] + (max_width - line_width) / 2\n",
    "#         draw.text((x, y), line, font=font, fill=fill)\n",
    "#         y += line_height\n",
    "# \n",
    "# \n",
    "# def process_data(template, language, text, photo_paths):\n",
    "#     downloades_path = os.path.join(os.getcwd(), 'downloads')\n",
    "#     file_name = os.path.join(downloades_path, str(uuid.uuid4())+'.png')\n",
    "#     output_path = os.path.join(os.getcwd(), file_name)\n",
    "# \n",
    "#     if language == \"Arabic\":\n",
    "#         arabic_text = text\n",
    "#         english_text = translate('ar', text)\n",
    "#     elif language == \"English\":\n",
    "#         english_text = text\n",
    "#         arabic_text = translate('en', text)\n",
    "#         arabic_text = arabic_text.replace('مستورد من', 'وارد')\n",
    "#         arabic_text = arabic_text.replace('مستوردة من', 'وارد')\n",
    "# \n",
    "#     else:\n",
    "#         return 'no translation'\n",
    "# \n",
    "#     if template == 'VIP':\n",
    "#         template_path = os.path.join(os.getcwd(), 'temp/vip.jpeg')\n",
    "#     elif template == 'مميز': template_path = os.path.join(os.getcwd(), 'temp/special.jpeg')\n",
    "#     elif template == 'مجاني': template_path = os.path.join(os.getcwd(), 'temp/free.jpeg')\n",
    "#     else: return 'wrong template'\n",
    "# \n",
    "#     base_image = Image.open(template_path)\n",
    "#     width, height = base_image.size\n",
    "#     new_image = Image.new('RGB', (width, height), 'white')\n",
    "#     new_image.paste(base_image, (0, 0))\n",
    "# \n",
    "#     num_photos = len(photo_paths)\n",
    "#     photo_height = height if num_photos == 1 else height // num_photos  # Adjusted height for photos\n",
    "# \n",
    "#     for i, photo_path in enumerate(photo_paths):\n",
    "#         photo_width = width // 2 +25 # Half of the width for each photo\n",
    "#         padding_top = i * photo_height  # Calculate top padding based on the number of photos\n",
    "# \n",
    "#         photo = Image.open(photo_path).resize((photo_width, photo_height), Image.LANCZOS)\n",
    "#         new_image.paste(photo, (0, padding_top))\n",
    "# \n",
    "#     draw = ImageDraw.Draw(new_image)\n",
    "# \n",
    "#     bold_font = ImageFont.truetype(\"arial/ARIALBD.TTF\", 30)\n",
    "# \n",
    "#     # Calculate text positions\n",
    "#     arabic_text_position = (int(width * 0.55), int(height * 0.1))\n",
    "#     english_text_position = (int(width * 0.55), int(height * 0.6))\n",
    "#     max_width = width * 0.4  # Adjusted max width for text\n",
    "# \n",
    "#     draw_multiline_text(draw, arabic_text_position, arabic_text, bold_font, fill=\"black\", line_height=35, max_width=max_width, align=\"center\")\n",
    "# \n",
    "#     draw_multiline_text(draw, english_text_position, english_text, bold_font, fill=\"black\", line_height=35, max_width=max_width, align=\"center\")\n",
    "# \n",
    "#     new_image.save(output_path)\n",
    "#     return output_path\n",
    "\n",
    "\n",
    "# def draw_multiline_text(draw, position, text, font, fill, line_height=30, max_width=None, align=\"left\"):\n",
    "#     lines = text.split('\\n')\n",
    "#     x, y = position\n",
    "#     for line in lines:\n",
    "#         if align == \"center\" and max_width:\n",
    "#             line_width = draw.textlength(line, font=font)\n",
    "#             x = position[0] + (max_width - line_width) / 2\n",
    "#         draw.text((x, y), line, font=font, fill=fill)\n",
    "#         y += line_height\n",
    "# \n",
    "# def process_data(template, language, text, photo_paths):\n",
    "#     downloads_path = os.path.join(os.getcwd(), 'downloads')\n",
    "#     file_name = os.path.join(downloads_path, str(uuid.uuid4()) + '.png')\n",
    "#     output_path = os.path.join(os.getcwd(), file_name)\n",
    "# \n",
    "#     if language == \"Arabic\":\n",
    "#         arabic_text = text\n",
    "#         english_text = translate('ar', text)\n",
    "#     elif language == \"English\":\n",
    "#         english_text = text\n",
    "#         arabic_text = translate('en', text)\n",
    "#         arabic_text = arabic_text.replace('مستورد من', 'وارد')\n",
    "#         arabic_text = arabic_text.replace('مستوردة من', 'وارد')\n",
    "#     else:\n",
    "#         return 'no translation'\n",
    "# \n",
    "#     if template == 'VIP':\n",
    "#         template_path = os.path.join(os.getcwd(), 'temp/vip.jpeg')\n",
    "#     elif template == 'مميز':\n",
    "#         template_path = os.path.join(os.getcwd(), 'temp/special.jpeg')\n",
    "#     elif template == 'مجاني':\n",
    "#         template_path = os.path.join(os.getcwd(), 'temp/free.jpeg')\n",
    "#     else:\n",
    "#         return 'wrong template'\n",
    "# \n",
    "#     padding = 50  # Set padding around the template\n",
    "#     \n",
    "#     base_image = Image.open(template_path)\n",
    "#     width, height = base_image.size\n",
    "#     new_width = width + 2 * padding \n",
    "#     new_height = height + 2 * padding \n",
    "# \n",
    "#     new_image = Image.new('RGB', (new_width, new_height), 'white')\n",
    "#     new_image.paste(base_image, (padding+7, padding))\n",
    "# \n",
    "#     num_photos = len(photo_paths)\n",
    "#     photo_height = height // num_photos if num_photos > 1 else height  # Adjusted height for photos\n",
    "# \n",
    "#     for i, photo_path in enumerate(photo_paths):\n",
    "#         photo_width = width // 2 +7  # Half of the width for each photo with padding\n",
    "#         padding_top = i * photo_height + padding  # Calculate top padding based on the number of photos\n",
    "# \n",
    "#         photo = Image.open(photo_path).resize((photo_width, photo_height), Image.LANCZOS)\n",
    "#         new_image.paste(photo, (padding + 25, padding_top))  # Add padding on the left side\n",
    "# \n",
    "#     draw = ImageDraw.Draw(new_image)\n",
    "# \n",
    "#     bold_font = ImageFont.truetype(\"arial/ARIALBD.TTF\", 30)\n",
    "# \n",
    "#     # Calculate text positions\n",
    "#     arabic_text_position = (padding + int(width * 0.55), padding + int(height * 0.1))\n",
    "#     english_text_position = (padding + int(width * 0.55), padding + int(height * 0.6))\n",
    "#     max_width = width * 0.4  # Adjusted max width for text\n",
    "# \n",
    "#     draw_multiline_text(draw, arabic_text_position, arabic_text, bold_font, fill=\"black\", line_height=35, max_width=max_width, align=\"center\")\n",
    "#     draw_multiline_text(draw, english_text_position, english_text, bold_font, fill=\"black\", line_height=35, max_width=max_width, align=\"center\")\n",
    "# \n",
    "#     new_image.save(output_path)\n",
    "#     return output_path\n",
    "\n",
    "\n",
    "\n",
    "# def draw_multiline_text(draw, position, text, font, fill, line_height=30, max_width=None, align=\"left\"):\n",
    "#     lines = text.split('\\n')\n",
    "#     x, y = position\n",
    "#     for line in lines:\n",
    "#         if align == \"center\" and max_width:\n",
    "#             line_width = draw.textlength(line, font=font)\n",
    "#             x = position[0] + (max_width - line_width) / 2\n",
    "#         draw.text((x, y), line, font=font, fill=fill)\n",
    "#         y += line_height\n",
    "# \n",
    "# def process_data(template, language, text, photo_paths):\n",
    "#     downloads_path = os.path.join(os.getcwd(), 'downloads')\n",
    "#     file_name = str(uuid.uuid4()) + '.png'\n",
    "#     output_path = os.path.join(downloads_path, file_name)\n",
    "# \n",
    "#     if language == \"Arabic\":\n",
    "#         arabic_text = text\n",
    "#         english_text = translate('ar', text)\n",
    "#     elif language == \"English\":\n",
    "#         english_text = text\n",
    "#         arabic_text = translate('en', text)\n",
    "#         arabic_text = arabic_text.replace('مستورد من', 'وارد')\n",
    "#         arabic_text = arabic_text.replace('مستوردة من', 'وارد')\n",
    "#     else:\n",
    "#         return 'no translation'\n",
    "# \n",
    "#     if template == 'VIP':\n",
    "#         template_path = os.path.join(os.getcwd(), 'temp/vip.jpeg')\n",
    "#     elif template == 'مميز':\n",
    "#         template_path = os.path.join(os.getcwd(), 'temp/special.jpeg')\n",
    "#     elif template == 'مجاني':\n",
    "#         template_path = os.path.join(os.getcwd(), 'temp/free.jpeg')\n",
    "#     else:\n",
    "#         return 'wrong template'\n",
    "# \n",
    "#     base_image = Image.open(template_path)\n",
    "#     width, height = base_image.size\n",
    "#     new_image = Image.new('RGB', (width, height), 'white')\n",
    "#     new_image.paste(base_image, (0, 0))\n",
    "# \n",
    "#     num_photos = len(photo_paths)\n",
    "#     padding = 10  # Padding around images\n",
    "#     photo_height = (height - (num_photos + 1) * padding) // num_photos  # Adjusted height for photos\n",
    "# \n",
    "#     for i, photo_path in enumerate(photo_paths):\n",
    "#         photo_width = width // 2 +15 # Half of the width for each photo, adjusted for padding\n",
    "#         padding_top = padding + i * (photo_height + padding)  # Calculate top padding based on the number of photos\n",
    "# \n",
    "#         photo = Image.open(photo_path).resize((photo_width, photo_height), Image.LANCZOS)\n",
    "#         new_image.paste(photo, (padding, padding_top))\n",
    "# \n",
    "#     draw = ImageDraw.Draw(new_image)\n",
    "# \n",
    "#     bold_font = ImageFont.truetype(\"arial/ARIALBD.TTF\", 30)\n",
    "# \n",
    "#     # Calculate text positions\n",
    "#     arabic_text_position = (int(width * 0.55), int(height * 0.1))\n",
    "#     english_text_position = (int(width * 0.55), int(height * 0.6))\n",
    "#     max_width = width * 0.4  # Adjusted max width for text\n",
    "# \n",
    "#     draw_multiline_text(draw, arabic_text_position, arabic_text, bold_font, fill=\"black\", line_height=35, max_width=max_width, align=\"center\")\n",
    "#     draw_multiline_text(draw, english_text_position, english_text, bold_font, fill=\"black\", line_height=35, max_width=max_width, align=\"center\")\n",
    "# \n",
    "#     new_image.save(output_path)\n",
    "#     return output_path\n",
    "\n",
    "\n",
    "def draw_multiline_text(draw, position, text, font, fill, line_height=30, max_width=None, align=\"left\"):\n",
    "    lines = text.split('\\n')\n",
    "    x, y = position\n",
    "    for line in lines:\n",
    "        if align == \"center\" and max_width:\n",
    "            line_width = draw.textlength(line, font=font)\n",
    "            x = position[0] + (max_width - line_width) / 2\n",
    "        draw.text((x, y), line, font=font, fill=fill)\n",
    "        y += line_height\n",
    "        \n",
    "        \n",
    "\n",
    "def process_data(template, language, text, photo_paths):\n",
    "    downloads_path = os.path.join(os.getcwd(), 'downloads')\n",
    "    if not os.path.exists(downloads_path):\n",
    "        os.makedirs(downloads_path)\n",
    "\n",
    "    file_name = str(uuid.uuid4()) + '.png'\n",
    "    output_path = os.path.join(downloads_path, file_name)\n",
    "\n",
    "    if language == \"Arabic\":\n",
    "        arabic_text = '\\n'.join(line for line in text.splitlines() if '***' not in line)\n",
    "        english_text = \"Placeholder for English text\"\n",
    "    elif language == \"English\":\n",
    "        english_text = '\\n'.join(line for line in text.splitlines() if '***' not in line)\n",
    "        arabic_text = \"Placeholder for Arabic text\"\n",
    "    else:\n",
    "        return 'no translation'\n",
    "\n",
    "    if template == 'VIP':\n",
    "        template_path = os.path.join(os.getcwd(), 'temp/vip2.jpeg')\n",
    "    elif template == 'مميز':\n",
    "        template_path = os.path.join(os.getcwd(), 'temp/special2.jpeg')\n",
    "    elif template == 'مجاني':\n",
    "        template_path = os.path.join(os.getcwd(), 'temp/free2.jpeg')\n",
    "    else:\n",
    "        return 'wrong template'\n",
    "\n",
    "    base_image = Image.open(template_path)\n",
    "    width, height = base_image.size\n",
    "    new_image = Image.new('RGB', (width, height), 'white')\n",
    "    new_image.paste(base_image, (0, 0))\n",
    "\n",
    "    num_photos = len(photo_paths)\n",
    "    padding = 20\n",
    "    photo_height = (height - 2 * padding) // num_photos  # Adjusted height for photos, with padding around the template\n",
    "\n",
    "    for i, photo_path in enumerate(photo_paths):\n",
    "        photo_width = width // 2 - padding  # Half of the width for each photo, adjusted for padding\n",
    "        padding_top = padding + i * (photo_height + padding)  # Calculate top padding\n",
    "\n",
    "        photo = Image.open(photo_path).resize((photo_width, photo_height), Image.LANCZOS)\n",
    "        new_image.paste(photo, (padding, padding_top))\n",
    "\n",
    "    draw = ImageDraw.Draw(new_image)\n",
    "\n",
    "    bold_font = ImageFont.truetype(\"arial/ARIAL.TTF\", 30)\n",
    "\n",
    "    # Calculate text positions\n",
    "    arabic_text_position = (int(width * 0.55), int(height * 0.1))\n",
    "    english_text_position = (int(width * 0.55), int(height * 0.6))\n",
    "    max_width = width * 0.4  # Adjusted max width for text\n",
    "\n",
    "    draw_multiline_text(draw, arabic_text_position, arabic_text, bold_font, fill=\"black\", line_height=35, max_width=max_width, align=\"center\")\n",
    "    draw_multiline_text(draw, english_text_position, english_text, bold_font, fill=\"black\", line_height=35, max_width=max_width, align=\"center\")\n",
    "\n",
    "    new_image.save(output_path)\n",
    "    return output_path"
   ],
   "id": "327eeaefe0bf108f",
   "outputs": [],
   "execution_count": 4
  },
  {
   "metadata": {
    "ExecuteTime": {
     "end_time": "2024-06-28T18:03:41.089724Z",
     "start_time": "2024-06-28T18:03:41.086595Z"
    }
   },
   "cell_type": "code",
   "source": "photo_paths = ['downloads/55.jpg', 'downloads/44.jpg', 'downloads/2.jpg']",
   "id": "2cd1fa93c0358eb8",
   "outputs": [],
   "execution_count": 5
  },
  {
   "metadata": {
    "ExecuteTime": {
     "end_time": "2024-06-28T18:03:42.987903Z",
     "start_time": "2024-06-28T18:03:42.682509Z"
    }
   },
   "cell_type": "code",
   "source": "process_data('VIP', 'English', 'dd', photo_paths)",
   "id": "50685ed4fc8763ce",
   "outputs": [
    {
     "data": {
      "text/plain": [
       "'/home/ahmed-sheded/projects/abo saad/downloads/46c00139-b769-4398-b413-2d6e68d02bec.png'"
      ]
     },
     "execution_count": 6,
     "metadata": {},
     "output_type": "execute_result"
    }
   ],
   "execution_count": 6
  },
  {
   "metadata": {
    "ExecuteTime": {
     "end_time": "2024-06-23T21:27:43.061029Z",
     "start_time": "2024-06-23T21:27:43.056483Z"
    }
   },
   "cell_type": "code",
   "source": [
    "arabic_text = \"\"\"\n",
    "نوع السيارة: ييي\n",
    "وارد خليجي: وارد\n",
    "***\n",
    "نوع السيارة: يي\n",
    "\"\"\""
   ],
   "id": "e7974de2bed3f2f6",
   "outputs": [],
   "execution_count": 254
  },
  {
   "metadata": {
    "ExecuteTime": {
     "end_time": "2024-06-23T21:15:37.013111Z",
     "start_time": "2024-06-23T21:15:37.010336Z"
    }
   },
   "cell_type": "code",
   "source": "print(arabic_text.split('***')[0])",
   "id": "2ca55b749455bf05",
   "outputs": [
    {
     "name": "stdout",
     "output_type": "stream",
     "text": [
      "\n",
      "نوع السيارة: ييي\n",
      "وارد خليجي: وارد\n",
      "\n"
     ]
    }
   ],
   "execution_count": 245
  },
  {
   "metadata": {
    "ExecuteTime": {
     "end_time": "2024-06-23T21:15:37.355155Z",
     "start_time": "2024-06-23T21:15:37.351471Z"
    }
   },
   "cell_type": "code",
   "source": [
    "target = arabic_text.split('***')[0]\n",
    "rest_of_text = arabic_text.split('***')[1]"
   ],
   "id": "8eb5501b463d9744",
   "outputs": [],
   "execution_count": 246
  },
  {
   "metadata": {
    "ExecuteTime": {
     "end_time": "2024-06-23T21:15:37.723666Z",
     "start_time": "2024-06-23T21:15:37.719315Z"
    }
   },
   "cell_type": "code",
   "source": "target",
   "id": "34520ca19d7839d0",
   "outputs": [
    {
     "data": {
      "text/plain": [
       "'\\nنوع السيارة: ييي\\nوارد خليجي: وارد\\n'"
      ]
     },
     "execution_count": 247,
     "metadata": {},
     "output_type": "execute_result"
    }
   ],
   "execution_count": 247
  },
  {
   "metadata": {
    "ExecuteTime": {
     "end_time": "2024-06-23T21:15:37.996233Z",
     "start_time": "2024-06-23T21:15:37.991658Z"
    }
   },
   "cell_type": "code",
   "source": "text_list = target.split(\"\\n\")",
   "id": "b086b38fdde534f7",
   "outputs": [],
   "execution_count": 248
  },
  {
   "metadata": {
    "ExecuteTime": {
     "end_time": "2024-06-23T21:15:38.363547Z",
     "start_time": "2024-06-23T21:15:38.358880Z"
    }
   },
   "cell_type": "code",
   "source": "processed_list = [text.split(':', 1)[1].strip() if ':' in text else text for text in text_list if text]",
   "id": "5b9eae18aaa4dc10",
   "outputs": [],
   "execution_count": 249
  },
  {
   "metadata": {
    "ExecuteTime": {
     "end_time": "2024-06-23T21:15:38.869360Z",
     "start_time": "2024-06-23T21:15:38.866301Z"
    }
   },
   "cell_type": "code",
   "source": "result_text = '\\n'.join(processed_list)",
   "id": "a0f152836a354df8",
   "outputs": [],
   "execution_count": 250
  },
  {
   "metadata": {
    "ExecuteTime": {
     "end_time": "2024-06-23T21:15:39.677512Z",
     "start_time": "2024-06-23T21:15:39.674251Z"
    }
   },
   "cell_type": "code",
   "source": "print(result_text)",
   "id": "5932d57c76b235c2",
   "outputs": [
    {
     "name": "stdout",
     "output_type": "stream",
     "text": [
      "ييي\n",
      "وارد\n"
     ]
    }
   ],
   "execution_count": 251
  },
  {
   "metadata": {
    "ExecuteTime": {
     "end_time": "2024-06-27T14:13:42.826900Z",
     "start_time": "2024-06-27T14:13:42.822918Z"
    }
   },
   "cell_type": "code",
   "source": [
    "def convert_text(text):\n",
    "    if \"***\" in text:\n",
    "        target = text.split('***')[0]\n",
    "        rest_of_text = text.split('***')[1]\n",
    "        text_list = target.split(\"\\n\")\n",
    "        processed_list = [text.split(':', 1)[1].strip() if ':' in text else text for text in text_list if text] \n",
    "        result_text = '\\n'.join(processed_list) \n",
    "        text = result_text+'\\n'+rest_of_text\n",
    "    else:\n",
    "        return text\n",
    "    return text"
   ],
   "id": "1c6d53d65fc47273",
   "outputs": [],
   "execution_count": 21
  },
  {
   "metadata": {
    "ExecuteTime": {
     "end_time": "2024-06-27T14:11:03.456853Z",
     "start_time": "2024-06-27T14:11:03.442119Z"
    }
   },
   "cell_type": "code",
   "source": "result = convert_text(arabic_text)",
   "id": "1773377246c2f0ce",
   "outputs": [
    {
     "ename": "NameError",
     "evalue": "name 'arabic_text' is not defined",
     "output_type": "error",
     "traceback": [
      "\u001B[0;31m---------------------------------------------------------------------------\u001B[0m",
      "\u001B[0;31mNameError\u001B[0m                                 Traceback (most recent call last)",
      "Cell \u001B[0;32mIn[6], line 1\u001B[0m\n\u001B[0;32m----> 1\u001B[0m result \u001B[38;5;241m=\u001B[39m convert_text(\u001B[43marabic_text\u001B[49m)\n",
      "\u001B[0;31mNameError\u001B[0m: name 'arabic_text' is not defined"
     ]
    }
   ],
   "execution_count": 6
  },
  {
   "metadata": {
    "ExecuteTime": {
     "end_time": "2024-06-23T21:29:07.682303Z",
     "start_time": "2024-06-23T21:29:07.678779Z"
    }
   },
   "cell_type": "code",
   "source": "print(result)",
   "id": "511d201c02fdc92c",
   "outputs": [
    {
     "name": "stdout",
     "output_type": "stream",
     "text": [
      "ييي\n",
      "وارد\n",
      "\n",
      "نوع السيارة: يي\n",
      "\n"
     ]
    }
   ],
   "execution_count": 262
  },
  {
   "metadata": {
    "ExecuteTime": {
     "end_time": "2024-06-28T18:13:34.989998Z",
     "start_time": "2024-06-28T18:13:34.803168Z"
    }
   },
   "cell_type": "code",
   "source": [
    "from PIL import Image\n",
    "\n",
    "# Open the image file\n",
    "image_path = 'temp/vip.jpeg'  # Replace with your image file path\n",
    "img = Image.open(image_path).convert('RGBA')\n",
    "\n",
    "# Get the image size\n",
    "width, height = img.size\n",
    "\n",
    "# Adjust the width by removing 30 pixels\n",
    "adjusted_width = width - 30\n",
    "\n",
    "# Define the area to be converted (left half of the image)\n",
    "left_half = img.crop((0, 0, adjusted_width // 2, height))\n",
    "\n",
    "# Convert the left half to RGB\n",
    "left_half = left_half.convert('RGB')\n",
    "\n",
    "# Replace all non-white pixels with white in the left half\n",
    "new_data = []\n",
    "for item in left_half.getdata():\n",
    "    # Change all non-white (not exactly 255, 255, 255) to white\n",
    "    if item != (255, 255, 255):\n",
    "        new_data.append((255, 255, 255))\n",
    "    else:\n",
    "        new_data.append(item)\n",
    "\n",
    "# Update left half image data\n",
    "left_half.putdata(new_data)\n",
    "\n",
    "# Convert the left half back to RGBA\n",
    "left_half = left_half.convert('RGBA')\n",
    "\n",
    "# Create a new image with the adjusted size\n",
    "new_img = Image.new('RGBA', (adjusted_width, height))\n",
    "\n",
    "# Paste the modified left half\n",
    "new_img.paste(left_half, (0, 0))\n",
    "\n",
    "# Paste the original right half, adjusted for the new width\n",
    "right_half = img.crop((width // 2 + 30, 0, width, height))\n",
    "new_img.paste(right_half, (adjusted_width // 2, 0))\n",
    "\n",
    "# Convert the final image to RGB before saving (since JPEG does not support RGBA)\n",
    "new_img = new_img.convert('RGB')\n",
    "\n",
    "# Save the new image\n",
    "output_path_half = 'temp/vip2.jpeg'  # Replace with your desired output file path\n",
    "new_img.save(output_path_half)\n",
    "\n",
    "print(f\"Image saved to {output_path_half}\")\n"
   ],
   "id": "3c9ff61347b2fe74",
   "outputs": [
    {
     "name": "stdout",
     "output_type": "stream",
     "text": [
      "Image saved to temp/vip2.jpeg\n"
     ]
    }
   ],
   "execution_count": 15
  },
  {
   "metadata": {
    "ExecuteTime": {
     "end_time": "2024-07-02T22:57:35.549892Z",
     "start_time": "2024-07-02T22:57:35.388573Z"
    }
   },
   "cell_type": "code",
   "source": "from processing import convert_text",
   "id": "bb0230884491c585",
   "outputs": [],
   "execution_count": 1
  },
  {
   "metadata": {
    "ExecuteTime": {
     "end_time": "2024-07-02T22:57:36.250903Z",
     "start_time": "2024-07-02T22:57:36.237928Z"
    }
   },
   "cell_type": "code",
   "source": [
    "text = '''\n",
    "جمس سييرا SLE\n",
    "خليجي 2023\n",
    "8 سلندر\n",
    "44,500 الف كيلو\n",
    "السعر : 180 الف قابل للتفاوض\n",
    "مكان السياره أبو ظبي\n",
    "رقم التواصل: 0556662017\n",
    "الوصف المكتوب آخر شي تحت رقم التواصل خله ينحذف بعد مايترجم باللغه الانقليزيه لكن بالعربي ماينحذف  المكتوب آخر شي تحت رقم التواصل خله ينحذف بعد مايترجم باللغه\n",
    "'''"
   ],
   "id": "88ca1db041dbb38c",
   "outputs": [],
   "execution_count": 2
  },
  {
   "metadata": {
    "ExecuteTime": {
     "end_time": "2024-07-02T22:57:37.264187Z",
     "start_time": "2024-07-02T22:57:37.261053Z"
    }
   },
   "cell_type": "code",
   "source": "converted_text = convert_text(text)",
   "id": "12485f4f5d0efffb",
   "outputs": [],
   "execution_count": 3
  },
  {
   "metadata": {
    "ExecuteTime": {
     "end_time": "2024-07-02T22:57:38.054764Z",
     "start_time": "2024-07-02T22:57:38.051278Z"
    }
   },
   "cell_type": "code",
   "source": "print(converted_text)",
   "id": "199a36aeef89d4eb",
   "outputs": [
    {
     "name": "stdout",
     "output_type": "stream",
     "text": [
      "\n",
      "جمس سييرا SLE\n",
      "خليجي 2023\n",
      "8 سلندر\n",
      "44,500 الف كيلو\n",
      "السعر : 180 الف قابل للتفاوض\n",
      "مكان السياره أبو ظبي\n",
      "رقم التواصل: 0556662017\n",
      "الوصف المكتوب آخر شي تحت رقم\n",
      "التواصل خله ينحذف بعد مايترجم باللغه\n",
      "الانقليزيه لكن بالعربي ماينحذف المكتوب آخر\n",
      "شي تحت رقم التواصل خله ينحذف\n",
      "بعد مايترجم باللغه\n",
      "\n"
     ]
    }
   ],
   "execution_count": 4
  },
  {
   "metadata": {
    "ExecuteTime": {
     "end_time": "2024-07-31T19:11:03.011617Z",
     "start_time": "2024-07-31T19:11:03.008380Z"
    }
   },
   "cell_type": "code",
   "source": [
    "text = \"\"\"2002 لكزس 430 وارد اليابان\n",
    "8 سلندر\n",
    "الممشى: 318,000 ميل\n",
    "السعر: للبيع او البدل\n",
    "مكان السيارة: ابوظبي\n",
    "رقم التواصل: 0508484477\n",
    "2002 محول خارج 20004\n",
    "تواصل واتساب\"\"\""
   ],
   "id": "2ae4382df8a76079",
   "outputs": [],
   "execution_count": 3
  },
  {
   "metadata": {
    "ExecuteTime": {
     "end_time": "2024-07-31T19:11:03.309349Z",
     "start_time": "2024-07-31T19:11:03.303813Z"
    }
   },
   "cell_type": "code",
   "source": "len(text)",
   "id": "839114ffd1a5cb14",
   "outputs": [
    {
     "data": {
      "text/plain": [
       "155"
      ]
     },
     "execution_count": 4,
     "metadata": {},
     "output_type": "execute_result"
    }
   ],
   "execution_count": 4
  },
  {
   "metadata": {
    "ExecuteTime": {
     "end_time": "2024-07-31T19:09:24.701053Z",
     "start_time": "2024-07-31T19:09:24.697438Z"
    }
   },
   "cell_type": "code",
   "source": "print(len(text))",
   "id": "7816bcdd0c1c73fa",
   "outputs": [
    {
     "name": "stdout",
     "output_type": "stream",
     "text": [
      "154\n"
     ]
    }
   ],
   "execution_count": 3
  },
  {
   "metadata": {},
   "cell_type": "code",
   "source": "print('d')",
   "id": "c15ac8ea263adcea",
   "outputs": [],
   "execution_count": null
  },
  {
   "metadata": {
    "ExecuteTime": {
     "end_time": "2024-08-05T15:31:54.030779Z",
     "start_time": "2024-08-05T15:31:54.027095Z"
    }
   },
   "cell_type": "code",
   "source": [
    "text = \"\"\"\n",
    "Type of car: toyota \n",
    "Model: 2022 gulf\n",
    "How many cylinders: 8 cylinders\n",
    "500000km\n",
    "price: 20000 negotiable\n",
    "location of the car:\n",
    "alain\n",
    "contact number: 05555555555\n",
    "original paint, original engine\n",
    "gealrer\n",
    "\"\"\""
   ],
   "id": "531a07e9b7db8ee3",
   "outputs": [],
   "execution_count": 1
  },
  {
   "metadata": {},
   "cell_type": "code",
   "outputs": [],
   "execution_count": null,
   "source": "for line in text.split('\\n'):",
   "id": "5e9235b61252c40a"
  },
  {
   "metadata": {
    "ExecuteTime": {
     "end_time": "2024-08-26T18:12:48.474777Z",
     "start_time": "2024-08-26T18:12:46.926297Z"
    }
   },
   "cell_type": "code",
   "source": [
    "import torch\n",
    "print(torch.cuda.is_available())"
   ],
   "id": "fc59253587479d12",
   "outputs": [
    {
     "name": "stdout",
     "output_type": "stream",
     "text": [
      "False\n"
     ]
    },
    {
     "name": "stderr",
     "output_type": "stream",
     "text": [
      "/home/ahmed-sheded/projects/abo saad/venv/lib/python3.12/site-packages/torch/cuda/__init__.py:128: UserWarning: CUDA initialization: CUDA unknown error - this may be due to an incorrectly set up environment, e.g. changing env variable CUDA_VISIBLE_DEVICES after program start. Setting the available devices to be zero. (Triggered internally at ../c10/cuda/CUDAFunctions.cpp:108.)\n",
      "  return torch._C._cuda_getDeviceCount() > 0\n"
     ]
    }
   ],
   "execution_count": 1
  },
  {
   "metadata": {},
   "cell_type": "code",
   "outputs": [],
   "execution_count": null,
   "source": "",
   "id": "7b8c864af7cddc44"
  }
 ],
 "metadata": {
  "kernelspec": {
   "display_name": "Python 3",
   "language": "python",
   "name": "python3"
  },
  "language_info": {
   "codemirror_mode": {
    "name": "ipython",
    "version": 2
   },
   "file_extension": ".py",
   "mimetype": "text/x-python",
   "name": "python",
   "nbconvert_exporter": "python",
   "pygments_lexer": "ipython2",
   "version": "2.7.6"
  }
 },
 "nbformat": 4,
 "nbformat_minor": 5
}
